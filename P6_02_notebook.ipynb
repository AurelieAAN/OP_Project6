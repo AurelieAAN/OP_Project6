{
 "cells": [
  {
   "cell_type": "markdown",
   "metadata": {},
   "source": [
    "# Test"
   ]
  },
  {
   "cell_type": "code",
   "execution_count": 38,
   "metadata": {},
   "outputs": [
    {
     "name": "stdout",
     "output_type": "stream",
     "text": [
      "The pycodestyle_magic extension is already loaded. To reload it, use:\n",
      "  %reload_ext pycodestyle_magic\n"
     ]
    }
   ],
   "source": [
    "import random\n",
    "import os\n",
    "# notre package de fonctionnalités\n",
    "from Package import Scripts_Analyse01 as pk\n",
    "import pandas as pd\n",
    "import numpy as np\n",
    "import missingno\n",
    "import matplotlib.pyplot as plt\n",
    "import matplotlib.patches as mpatches\n",
    "import scipy.stats\n",
    "from scipy.stats import pearsonr\n",
    "import seaborn as sns\n",
    "import plotly.express as px\n",
    "import plotly.graph_objects as go\n",
    "from yellowbrick.features import ParallelCoordinates\n",
    "from plotly.graph_objects import Layout\n",
    "from sklearn.decomposition import PCA\n",
    "from sklearn.preprocessing import StandardScaler, MinMaxScaler, scale\n",
    "from sklearn.datasets import make_blobs\n",
    "from yellowbrick.cluster import KElbowVisualizer\n",
    "from yellowbrick.features import PCA as PCA_yellow\n",
    "from yellowbrick.style import set_palette\n",
    "from sklearn import metrics\n",
    "import gc\n",
    "import time\n",
    "from contextlib import contextmanager\n",
    "import warnings\n",
    "import numpy as np\n",
    "from datetime import datetime\n",
    "from gql import gql, Client\n",
    "from gql.transport.requests import RequestsHTTPTransport\n",
    "from dotenv import load_dotenv\n",
    "from pprint import pprint\n",
    "warnings.simplefilter(action='ignore', category=FutureWarning)\n",
    "%load_ext pycodestyle_magic"
   ]
  },
  {
   "cell_type": "code",
   "execution_count": 10,
   "metadata": {},
   "outputs": [],
   "source": [
    "%flake8_off"
   ]
  },
  {
   "cell_type": "code",
   "execution_count": 24,
   "metadata": {},
   "outputs": [
    {
     "name": "stderr",
     "output_type": "stream",
     "text": [
      "Python-dotenv could not parse statement starting at line 1\n"
     ]
    },
    {
     "data": {
      "text/plain": [
       "True"
      ]
     },
     "execution_count": 24,
     "metadata": {},
     "output_type": "execute_result"
    }
   ],
   "source": [
    "# chargement des variables d'environnment\n",
    "load_dotenv() "
   ]
  },
  {
   "cell_type": "code",
   "execution_count": 40,
   "metadata": {},
   "outputs": [],
   "source": [
    "api_key = os.getenv('API_KEY')\n",
    "endpoint = \"https://api.yelp.com/v3/graphql\""
   ]
  },
  {
   "cell_type": "markdown",
   "metadata": {},
   "source": [
    "Réalisons une fonction pour réaliser des requêtes en GraphQL. On utilise cette solution afin de pouvoir collecter les informations uniquement des champs qui nous intéressent."
   ]
  },
  {
   "cell_type": "code",
   "execution_count": 42,
   "metadata": {},
   "outputs": [],
   "source": [
    "def request_client(api_key, endpoint, query):\n",
    "    reqHeaders = {\n",
    "        'Authorization': 'Bearer ' + api_key \n",
    "    }\n",
    "\n",
    "    _transport = RequestsHTTPTransport(\n",
    "        url=endpoint,\n",
    "        headers = reqHeaders,\n",
    "        use_json=True,\n",
    "    )\n",
    "\n",
    "    client = Client(\n",
    "        transport = _transport,\n",
    "        fetch_schema_from_transport=True,\n",
    "    )\n",
    "\n",
    "    result = client.execute(query)\n",
    "    return result"
   ]
  },
  {
   "cell_type": "code",
   "execution_count": 178,
   "metadata": {},
   "outputs": [
    {
     "name": "stdout",
     "output_type": "stream",
     "text": [
      "nb restaurants  50\n",
      "nb restaurants  100\n",
      "nb restaurants  150\n",
      "nb restaurants  200\n"
     ]
    }
   ],
   "source": [
    "# le max de review est de 3 par restaurant, on importe toutes les données\n",
    "restaurants=[]\n",
    "j = 0\n",
    "for i in range(0,4):\n",
    "    query = \"\"\"\n",
    "                {\n",
    "                search(term:\"restaurant\",\n",
    "                        location:\"FR\"\n",
    "                        limit:50,\n",
    "                        offset:\"\"\"+str(j)+\"\"\"\n",
    "                        ) {\n",
    "                    business {\n",
    "                    id,\n",
    "                    name,\n",
    "                    photos,\n",
    "                    reviews{\n",
    "                        id,\n",
    "                        text,\n",
    "                        rating,\n",
    "                        url\n",
    "                    }\n",
    "                    }\n",
    "                }\n",
    "                }\n",
    "            \"\"\"\n",
    "    query = gql(query)\n",
    "    temp = request_client(api_key, endpoint, query)[\"search\"][\"business\"]\n",
    "    restaurants.extend(temp)\n",
    "    print(\"nb restaurants \", len(restaurants))\n",
    "    j=j+51\n",
    "    "
   ]
  },
  {
   "cell_type": "code",
   "execution_count": 183,
   "metadata": {},
   "outputs": [
    {
     "name": "stdout",
     "output_type": "stream",
     "text": [
      "                         id                                 name  \\\n",
      "0    -0iLH7iQNYtoURciDpJf6w        Le Comptoir de la Gastronomie   \n",
      "1    IU9_wVOGBKjfqTTpAXpKcQ                 Bistro des Augustins   \n",
      "2    KggnM_Z4wOa_JExunaaWHg                 Le Temps des Cerises   \n",
      "3    cEjF41ZQB8-SST8cd3EsEw                     L'Avant Comptoir   \n",
      "4    ctP4c3mwVO5oOzLI48LtuQ                      Les Antiquaires   \n",
      "..                      ...                                  ...   \n",
      "195  d_tt3AgHNkphyH-fuI0e_g                         Le Rigmarole   \n",
      "196  OrggqA6CfhQmO3UrQr1K0w                            Lapérouse   \n",
      "197  B1LO7k6XfAGXLQZ0wCk_3w                     Le Vin en Bouche   \n",
      "198  -YKc0e0z_47s8JeXA2feOg  La Tour de Montlhéry ou chez Denise   \n",
      "199  JAvCagWNHVKEi-MbpvEcHw                 Le Potager du Marais   \n",
      "\n",
      "                                                photos  \\\n",
      "0    [https://s3-media2.fl.yelpcdn.com/bphoto/TtMQl...   \n",
      "1    [https://s3-media4.fl.yelpcdn.com/bphoto/J9RBy...   \n",
      "2    [https://s3-media1.fl.yelpcdn.com/bphoto/g3Aab...   \n",
      "3    [https://s3-media3.fl.yelpcdn.com/bphoto/mVwgx...   \n",
      "4    [https://s3-media3.fl.yelpcdn.com/bphoto/aBwaS...   \n",
      "..                                                 ...   \n",
      "195  [https://s3-media1.fl.yelpcdn.com/bphoto/DaHNQ...   \n",
      "196  [https://s3-media3.fl.yelpcdn.com/bphoto/QLF0x...   \n",
      "197  [https://s3-media1.fl.yelpcdn.com/bphoto/7ffdb...   \n",
      "198  [https://s3-media4.fl.yelpcdn.com/bphoto/AP6BV...   \n",
      "199  [https://s3-media4.fl.yelpcdn.com/bphoto/XGZFZ...   \n",
      "\n",
      "                                               reviews  \n",
      "0    [{'id': 'aGP7nLwEQOUg64jKP8ebsw', 'text': 'My ...  \n",
      "1    [{'id': '-to6adg_kucf1SgQckgJXw', 'text': 'Thi...  \n",
      "2    [{'id': 'U8G3f8ITSlqBzETBDVO8bw', 'text': 'Foo...  \n",
      "3    [{'id': 'un3pGCn6lKHDbaI-hsrk-A', 'text': 'Whe...  \n",
      "4    [{'id': '3u0PefxOlwysE22VZa9OSA', 'text': 'Bas...  \n",
      "..                                                 ...  \n",
      "195  [{'id': 'qCiQCY8wsF_pqaVSsVl3iw', 'text': 'Thi...  \n",
      "196  [{'id': 'LlAibd1Hdo61qzN2PMCWsg', 'text': 'Stu...  \n",
      "197  [{'id': 'wiO2xWehKTdrDGwVeTVDyw', 'text': 'A t...  \n",
      "198  [{'id': 'T9kq69yO2UtQcgjN0bOXtw', 'text': 'It ...  \n",
      "199  [{'id': 'b5ZYRxgOy8uF87mlg22ptQ', 'text': 'My ...  \n",
      "\n",
      "[200 rows x 4 columns]\n"
     ]
    }
   ],
   "source": [
    "pprint(pd.DataFrame(restaurants))"
   ]
  },
  {
   "cell_type": "markdown",
   "metadata": {},
   "source": [
    "On scinde notre fichier en deux afin de traiter le texte et les photos séparément."
   ]
  },
  {
   "cell_type": "code",
   "execution_count": null,
   "metadata": {},
   "outputs": [],
   "source": []
  },
  {
   "cell_type": "code",
   "execution_count": null,
   "metadata": {},
   "outputs": [],
   "source": []
  },
  {
   "cell_type": "code",
   "execution_count": null,
   "metadata": {},
   "outputs": [],
   "source": []
  },
  {
   "cell_type": "code",
   "execution_count": null,
   "metadata": {},
   "outputs": [],
   "source": []
  },
  {
   "cell_type": "markdown",
   "metadata": {},
   "source": [
    "Analysons le texte en premier lieu"
   ]
  },
  {
   "cell_type": "code",
   "execution_count": 9,
   "metadata": {},
   "outputs": [
    {
     "name": "stdout",
     "output_type": "stream",
     "text": [
      "14\n"
     ]
    }
   ],
   "source": [
    "import nltk\n",
    "from nltk import word_tokenize\n",
    "from nltk.util import ngrams\n",
    "\n",
    "text = \"La seconde partie du cours de traitement de texte traite de la transformation des données textuelles\"\n",
    "token = nltk.word_tokenize(text)\n",
    "trigrams = ngrams(token,3)\n",
    "print(len(list(trigrams)))"
   ]
  },
  {
   "cell_type": "code",
   "execution_count": null,
   "metadata": {},
   "outputs": [],
   "source": [
    "import requests\n",
    "# this is the url for Alice in Wonderland\n",
    "result = requests.get('http://www.gutenberg.org/files/11/11-0.txt')\n",
    "print(result.text)"
   ]
  }
 ],
 "metadata": {
  "interpreter": {
   "hash": "1bf38de015df36f6358542d5963b6c82901027718e2d69b31a772080f167955d"
  },
  "kernelspec": {
   "display_name": "Python 3.9.7 ('venv_006')",
   "language": "python",
   "name": "python3"
  },
  "language_info": {
   "codemirror_mode": {
    "name": "ipython",
    "version": 3
   },
   "file_extension": ".py",
   "mimetype": "text/x-python",
   "name": "python",
   "nbconvert_exporter": "python",
   "pygments_lexer": "ipython3",
   "version": "3.9.10"
  },
  "orig_nbformat": 4
 },
 "nbformat": 4,
 "nbformat_minor": 2
}
