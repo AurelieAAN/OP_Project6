{
 "cells": [
  {
   "cell_type": "markdown",
   "metadata": {},
   "source": [
    "# Projet 6"
   ]
  },
  {
   "cell_type": "code",
   "execution_count": 11,
   "metadata": {},
   "outputs": [
    {
     "name": "stdout",
     "output_type": "stream",
     "text": [
      "The pycodestyle_magic extension is already loaded. To reload it, use:\n",
      "  %reload_ext pycodestyle_magic\n"
     ]
    }
   ],
   "source": [
    "import random\n",
    "import os\n",
    "# notre package de fonctionnalités\n",
    "from Package import Scripts_Analyse01 as pk\n",
    "import pandas as pd\n",
    "import numpy as np\n",
    "import missingno\n",
    "import matplotlib.pyplot as plt\n",
    "import matplotlib.patches as mpatches\n",
    "import scipy.stats\n",
    "from scipy.stats import pearsonr\n",
    "import seaborn as sns\n",
    "import plotly.express as px\n",
    "import plotly.graph_objects as go\n",
    "from yellowbrick.features import ParallelCoordinates\n",
    "from plotly.graph_objects import Layout\n",
    "from sklearn.decomposition import PCA\n",
    "from sklearn.preprocessing import StandardScaler, MinMaxScaler, scale\n",
    "from sklearn.datasets import make_blobs\n",
    "from yellowbrick.cluster import KElbowVisualizer\n",
    "from yellowbrick.features import PCA as PCA_yellow\n",
    "from yellowbrick.style import set_palette\n",
    "from sklearn import metrics\n",
    "import gc\n",
    "import time\n",
    "from contextlib import contextmanager\n",
    "import warnings\n",
    "import numpy as np\n",
    "from datetime import datetime\n",
    "from gql import gql, Client\n",
    "from gql.transport.requests import RequestsHTTPTransport\n",
    "from dotenv import load_dotenv\n",
    "import nltk\n",
    "from nltk import word_tokenize\n",
    "from nltk.util import ngrams\n",
    "warnings.simplefilter(action='ignore', category=FutureWarning)\n",
    "%load_ext pycodestyle_magic"
   ]
  },
  {
   "cell_type": "code",
   "execution_count": 2,
   "metadata": {},
   "outputs": [
    {
     "ename": "ValueError",
     "evalue": "Function <bound method VarWatcher.auto_run_flake8 of <pycodestyle_magic.VarWatcher object at 0x000001EAFB3930A0>> is not registered as a post_run_cell callback",
     "output_type": "error",
     "traceback": [
      "\u001b[1;31m---------------------------------------------------------------------------\u001b[0m",
      "\u001b[1;31mValueError\u001b[0m                                Traceback (most recent call last)",
      "\u001b[1;32md:\\Users\\Aurel\\OneDrive_N\\OneDrive\\_WORK0\\IngenieurIA\\projets\\Projet6AppliResto\\OP_Project6\\P6_02_notebook.ipynb Cell 3'\u001b[0m in \u001b[0;36m<module>\u001b[1;34m\u001b[0m\n\u001b[1;32m----> <a href='vscode-notebook-cell:/d%3A/Users/Aurel/OneDrive_N/OneDrive/_WORK0/IngenieurIA/projets/Projet6AppliResto/OP_Project6/P6_02_notebook.ipynb#ch0000002?line=0'>1</a>\u001b[0m get_ipython()\u001b[39m.\u001b[39;49mrun_line_magic(\u001b[39m'\u001b[39;49m\u001b[39mflake8_off\u001b[39;49m\u001b[39m'\u001b[39;49m, \u001b[39m'\u001b[39;49m\u001b[39m'\u001b[39;49m)\n",
      "File \u001b[1;32mD:\\Users\\Aurel\\Anaconda3\\envs\\venv_006\\lib\\site-packages\\IPython\\core\\interactiveshell.py:2204\u001b[0m, in \u001b[0;36mInteractiveShell.run_line_magic\u001b[1;34m(self, magic_name, line, _stack_depth)\u001b[0m\n\u001b[0;32m   <a href='file:///d%3A/Users/Aurel/Anaconda3/envs/venv_006/lib/site-packages/IPython/core/interactiveshell.py?line=2201'>2202</a>\u001b[0m     kwargs[\u001b[39m'\u001b[39m\u001b[39mlocal_ns\u001b[39m\u001b[39m'\u001b[39m] \u001b[39m=\u001b[39m \u001b[39mself\u001b[39m\u001b[39m.\u001b[39mget_local_scope(stack_depth)\n\u001b[0;32m   <a href='file:///d%3A/Users/Aurel/Anaconda3/envs/venv_006/lib/site-packages/IPython/core/interactiveshell.py?line=2202'>2203</a>\u001b[0m \u001b[39mwith\u001b[39;00m \u001b[39mself\u001b[39m\u001b[39m.\u001b[39mbuiltin_trap:\n\u001b[1;32m-> <a href='file:///d%3A/Users/Aurel/Anaconda3/envs/venv_006/lib/site-packages/IPython/core/interactiveshell.py?line=2203'>2204</a>\u001b[0m     result \u001b[39m=\u001b[39m fn(\u001b[39m*\u001b[39margs, \u001b[39m*\u001b[39m\u001b[39m*\u001b[39mkwargs)\n\u001b[0;32m   <a href='file:///d%3A/Users/Aurel/Anaconda3/envs/venv_006/lib/site-packages/IPython/core/interactiveshell.py?line=2204'>2205</a>\u001b[0m \u001b[39mreturn\u001b[39;00m result\n",
      "File \u001b[1;32m~\\AppData\\Roaming\\Python\\Python39\\site-packages\\pycodestyle_magic.py:134\u001b[0m, in \u001b[0;36mflake8_off\u001b[1;34m(line)\u001b[0m\n\u001b[0;32m    <a href='file:///~/AppData/Roaming/Python/Python39/site-packages/pycodestyle_magic.py?line=131'>132</a>\u001b[0m \u001b[39m@register_line_magic\u001b[39m\n\u001b[0;32m    <a href='file:///~/AppData/Roaming/Python/Python39/site-packages/pycodestyle_magic.py?line=132'>133</a>\u001b[0m \u001b[39mdef\u001b[39;00m \u001b[39mflake8_off\u001b[39m(line):\n\u001b[1;32m--> <a href='file:///~/AppData/Roaming/Python/Python39/site-packages/pycodestyle_magic.py?line=133'>134</a>\u001b[0m     unload_ipython_extension(vw\u001b[39m.\u001b[39;49mshell, pck\u001b[39m=\u001b[39;49m\u001b[39m'\u001b[39;49m\u001b[39mflake8\u001b[39;49m\u001b[39m'\u001b[39;49m)\n",
      "File \u001b[1;32m~\\AppData\\Roaming\\Python\\Python39\\site-packages\\pycodestyle_magic.py:76\u001b[0m, in \u001b[0;36munload_ipython_extension\u001b[1;34m(ip, pck)\u001b[0m\n\u001b[0;32m     <a href='file:///~/AppData/Roaming/Python/Python39/site-packages/pycodestyle_magic.py?line=72'>73</a>\u001b[0m \u001b[39mdef\u001b[39;00m \u001b[39munload_ipython_extension\u001b[39m(ip, pck\u001b[39m=\u001b[39m\u001b[39mFalse\u001b[39;00m):\n\u001b[0;32m     <a href='file:///~/AppData/Roaming/Python/Python39/site-packages/pycodestyle_magic.py?line=73'>74</a>\u001b[0m     \u001b[39m# If you want your extension to be unloadable, put that logic here.\u001b[39;00m\n\u001b[0;32m     <a href='file:///~/AppData/Roaming/Python/Python39/site-packages/pycodestyle_magic.py?line=74'>75</a>\u001b[0m     \u001b[39mif\u001b[39;00m pck \u001b[39m==\u001b[39m \u001b[39m'\u001b[39m\u001b[39mflake8\u001b[39m\u001b[39m'\u001b[39m:\n\u001b[1;32m---> <a href='file:///~/AppData/Roaming/Python/Python39/site-packages/pycodestyle_magic.py?line=75'>76</a>\u001b[0m         ip\u001b[39m.\u001b[39;49mevents\u001b[39m.\u001b[39;49munregister(\u001b[39m'\u001b[39;49m\u001b[39mpost_run_cell\u001b[39;49m\u001b[39m'\u001b[39;49m, vw\u001b[39m.\u001b[39;49mauto_run_flake8)\n\u001b[0;32m     <a href='file:///~/AppData/Roaming/Python/Python39/site-packages/pycodestyle_magic.py?line=76'>77</a>\u001b[0m         \u001b[39mglobal\u001b[39;00m init_flake8\n\u001b[0;32m     <a href='file:///~/AppData/Roaming/Python/Python39/site-packages/pycodestyle_magic.py?line=77'>78</a>\u001b[0m         init_flake8 \u001b[39m=\u001b[39m \u001b[39mFalse\u001b[39;00m\n",
      "File \u001b[1;32mD:\\Users\\Aurel\\Anaconda3\\envs\\venv_006\\lib\\site-packages\\IPython\\core\\events.py:79\u001b[0m, in \u001b[0;36mEventManager.unregister\u001b[1;34m(self, event, function)\u001b[0m\n\u001b[0;32m     <a href='file:///d%3A/Users/Aurel/Anaconda3/envs/venv_006/lib/site-packages/IPython/core/events.py?line=75'>76</a>\u001b[0m     \u001b[39mexcept\u001b[39;00m \u001b[39mAttributeError\u001b[39;00m:\n\u001b[0;32m     <a href='file:///d%3A/Users/Aurel/Anaconda3/envs/venv_006/lib/site-packages/IPython/core/events.py?line=76'>77</a>\u001b[0m         \u001b[39mpass\u001b[39;00m\n\u001b[1;32m---> <a href='file:///d%3A/Users/Aurel/Anaconda3/envs/venv_006/lib/site-packages/IPython/core/events.py?line=78'>79</a>\u001b[0m \u001b[39mraise\u001b[39;00m \u001b[39mValueError\u001b[39;00m(\u001b[39m'\u001b[39m\u001b[39mFunction \u001b[39m\u001b[39m{!r}\u001b[39;00m\u001b[39m is not registered as a \u001b[39m\u001b[39m{}\u001b[39;00m\u001b[39m callback\u001b[39m\u001b[39m'\u001b[39m\u001b[39m.\u001b[39mformat(function, event))\n",
      "\u001b[1;31mValueError\u001b[0m: Function <bound method VarWatcher.auto_run_flake8 of <pycodestyle_magic.VarWatcher object at 0x000001EAFB3930A0>> is not registered as a post_run_cell callback"
     ]
    }
   ],
   "source": [
    "%flake8_off"
   ]
  },
  {
   "cell_type": "code",
   "execution_count": 12,
   "metadata": {},
   "outputs": [
    {
     "name": "stderr",
     "output_type": "stream",
     "text": [
      "Python-dotenv could not parse statement starting at line 1\n"
     ]
    },
    {
     "data": {
      "text/plain": [
       "True"
      ]
     },
     "execution_count": 12,
     "metadata": {},
     "output_type": "execute_result"
    }
   ],
   "source": [
    "# chargement des variables d'environnment\n",
    "load_dotenv() "
   ]
  },
  {
   "cell_type": "markdown",
   "metadata": {},
   "source": [
    "# Collecte des données"
   ]
  },
  {
   "cell_type": "code",
   "execution_count": 13,
   "metadata": {},
   "outputs": [],
   "source": [
    "api_key = os.getenv('API_KEY')\n",
    "endpoint = \"https://api.yelp.com/v3/graphql\""
   ]
  },
  {
   "cell_type": "markdown",
   "metadata": {},
   "source": [
    "Réalisons une fonction pour réaliser des requêtes en GraphQL. On utilise cette solution afin de pouvoir collecter les informations uniquement des champs qui nous intéressent."
   ]
  },
  {
   "cell_type": "code",
   "execution_count": 14,
   "metadata": {},
   "outputs": [],
   "source": [
    "def request_client(api_key, endpoint, query):\n",
    "    reqHeaders = {\n",
    "        'Authorization': 'Bearer ' + api_key \n",
    "    }\n",
    "\n",
    "    _transport = RequestsHTTPTransport(\n",
    "        url=endpoint,\n",
    "        headers = reqHeaders,\n",
    "        use_json=True,\n",
    "    )\n",
    "\n",
    "    client = Client(\n",
    "        transport = _transport,\n",
    "        fetch_schema_from_transport=True,\n",
    "    )\n",
    "\n",
    "    result = client.execute(query)\n",
    "    return result"
   ]
  },
  {
   "cell_type": "code",
   "execution_count": 15,
   "metadata": {},
   "outputs": [
    {
     "name": "stdout",
     "output_type": "stream",
     "text": [
      "nb restaurants  50\n",
      "nb restaurants  100\n",
      "nb restaurants  150\n",
      "nb restaurants  200\n"
     ]
    }
   ],
   "source": [
    "# le max de review est de 3 par restaurant, on importe toutes les données\n",
    "restaurants=[]\n",
    "j = 0\n",
    "for i in range(0,4):\n",
    "    query = \"\"\"\n",
    "                {\n",
    "                search(term:\"restaurant\",\n",
    "                        location:\"FR\"\n",
    "                        limit:50,\n",
    "                        offset:\"\"\"+str(j)+\"\"\"\n",
    "                        ) {\n",
    "                    business {\n",
    "                    id,\n",
    "                    name,\n",
    "                    photos,\n",
    "                    reviews{\n",
    "                        id,\n",
    "                        text,\n",
    "                        rating\n",
    "                    }\n",
    "                    }\n",
    "                }\n",
    "                }\n",
    "            \"\"\"\n",
    "    query = gql(query)\n",
    "    temp = request_client(api_key, endpoint, query)[\"search\"][\"business\"]\n",
    "    restaurants.extend(temp)\n",
    "    print(\"nb restaurants \", len(restaurants))\n",
    "    j=j+51\n",
    "    "
   ]
  },
  {
   "cell_type": "code",
   "execution_count": 16,
   "metadata": {},
   "outputs": [],
   "source": [
    "restaurants = pd.DataFrame(restaurants)"
   ]
  },
  {
   "cell_type": "markdown",
   "metadata": {},
   "source": [
    "Nous exportons les données au format csv pour les sauvegarder"
   ]
  },
  {
   "cell_type": "code",
   "execution_count": 17,
   "metadata": {},
   "outputs": [],
   "source": [
    "restaurants.to_csv('output/restaurants.csv')"
   ]
  },
  {
   "cell_type": "markdown",
   "metadata": {},
   "source": [
    "# Construction des bases de données"
   ]
  },
  {
   "cell_type": "markdown",
   "metadata": {},
   "source": [
    "On scinde notre fichier en deux afin de traiter le texte et les photos séparément."
   ]
  },
  {
   "cell_type": "code",
   "execution_count": 18,
   "metadata": {},
   "outputs": [
    {
     "name": "stdout",
     "output_type": "stream",
     "text": [
      "[{'id': 'aGP7nLwEQOUg64jKP8ebsw', 'text': 'My favorite meal in Paris! \\n\\nWe started off with the foie gras carpaccio and escargot. Love the unique way that the foie gras was prepared and so thinly...', 'rating': 5}, {'id': 'SZtFX-6RF0fLrJjFEyM2XQ', 'text': 'Warning! Tourist trap restaurant.  This restaurant is highly overrated, so do not go by the deceiving ratings.  I had probably one of the worst and...', 'rating': 1}, {'id': 'ctNB1g1MjXibFPrXuyGyIw', 'text': \"Best dining experience in paris! The food was imo really unique and things I didn't see around paris often. We didn't make a res so came super early at...\", 'rating': 5}]\n",
      "[{'id': '-to6adg_kucf1SgQckgJXw', 'text': 'This is a small bar/restaurant closed to Cathédrale Notre Dame. I always come here for lunch or dinner if I am close by. The hostess is very friendly. The...', 'rating': 5}, {'id': 'G-YvPO-wUd-NIJDrahcYUg', 'text': 'what a wonderful lunch! \\nthe decor is so french! and the staff is very nice and accommodating! \\nwe had lunch with an old friend and stayed 3 hours, eating...', 'rating': 4}, {'id': 'HI6OYSGtiGwOxKfbNMMWNQ', 'text': 'This is a really cute place next to the Seine and close to the Latin Quarter and Notre Dame. Came here on a Thursday around 6 and were seated right away. We...', 'rating': 5}]\n",
      "[{'id': 'WMRKQUUR3BmjV_EZg7zVfw', 'text': 'this is for a review from 2019, this place is perfect. would recommend 100%. prices are great, food is astounding.\\n\\nand i never leave reviews.', 'rating': 5}, {'id': 'CJHA45L37XDV0loBf-cpsg', 'text': 'I actually found this spot by accident when I was looking for just anything open that we could get into on a cold blistering December night in Paris.\\n\\nI saw...', 'rating': 4}, {'id': '-cLZhiNm1Ql8xMK6jpo6cA', 'text': \"We ate here on our last night on of our month in Europe. It was amazing and we were sad that we hadn't tried here earlier. It was however the most perfectly...\", 'rating': 5}]\n",
      "[{'id': 'U8G3f8ITSlqBzETBDVO8bw', 'text': 'Foods were delicious, great ambiance, and helpful staffs. \\nThe risotto cooked perfectly! I got the white fish with house white sauce (tasta like fennel,...', 'rating': 5}, {'id': 'cbEtN1xCMRMzk8v6eRiCZQ', 'text': 'This is the most wonderful ambiance in Paris! There was a wonderful reception when we walked in the door and were seated. The first thing you notice is the...', 'rating': 5}, {'id': 'A2L760QyKhY5F8d8D61-6w', 'text': \"We loved this place for the following reasons:\\n1. You can easily book reservations through their website and don't have to call or email.\\n2. The waiter was...\", 'rating': 5}]\n",
      "[{'id': 'giErkj8Al6-egq5XUu2FqA', 'text': 'Michelin starred. Reservations weeks in advance is absolutely necessary to dine at an establishment like this. My second time here. Very sophisticated vibe...', 'rating': 5}, {'id': '7P7fmTAqlsNy2yhEFGwFLw', 'text': 'The absolute best dining experience we had in Paris.... Only con was they give you way too much food... if that even is a negative. Probably not for most...', 'rating': 5}, {'id': 'MbWSP82BT9VwjCj_F1vtSQ', 'text': 'Wonderful dining experience.\\nThere is no menu. The food comes as the chef prepares.\\nI would highly recommend this restaurant for a date night. The...', 'rating': 5}]\n"
     ]
    }
   ],
   "source": [
    "for i in restaurants[\"reviews\"].head():\n",
    "    print(i)"
   ]
  },
  {
   "cell_type": "code",
   "execution_count": 19,
   "metadata": {},
   "outputs": [],
   "source": [
    "df = restaurants.copy()"
   ]
  },
  {
   "cell_type": "code",
   "execution_count": 20,
   "metadata": {},
   "outputs": [
    {
     "data": {
      "text/html": [
       "<div>\n",
       "<style scoped>\n",
       "    .dataframe tbody tr th:only-of-type {\n",
       "        vertical-align: middle;\n",
       "    }\n",
       "\n",
       "    .dataframe tbody tr th {\n",
       "        vertical-align: top;\n",
       "    }\n",
       "\n",
       "    .dataframe thead th {\n",
       "        text-align: right;\n",
       "    }\n",
       "</style>\n",
       "<table border=\"1\" class=\"dataframe\">\n",
       "  <thead>\n",
       "    <tr style=\"text-align: right;\">\n",
       "      <th></th>\n",
       "      <th>id</th>\n",
       "      <th>text</th>\n",
       "      <th>rating</th>\n",
       "    </tr>\n",
       "  </thead>\n",
       "  <tbody>\n",
       "    <tr>\n",
       "      <th>0</th>\n",
       "      <td>aGP7nLwEQOUg64jKP8ebsw</td>\n",
       "      <td>My favorite meal in Paris! \\n\\nWe started off ...</td>\n",
       "      <td>5</td>\n",
       "    </tr>\n",
       "    <tr>\n",
       "      <th>1</th>\n",
       "      <td>-to6adg_kucf1SgQckgJXw</td>\n",
       "      <td>This is a small bar/restaurant closed to Cathé...</td>\n",
       "      <td>5</td>\n",
       "    </tr>\n",
       "    <tr>\n",
       "      <th>2</th>\n",
       "      <td>WMRKQUUR3BmjV_EZg7zVfw</td>\n",
       "      <td>this is for a review from 2019, this place is ...</td>\n",
       "      <td>5</td>\n",
       "    </tr>\n",
       "    <tr>\n",
       "      <th>3</th>\n",
       "      <td>U8G3f8ITSlqBzETBDVO8bw</td>\n",
       "      <td>Foods were delicious, great ambiance, and help...</td>\n",
       "      <td>5</td>\n",
       "    </tr>\n",
       "    <tr>\n",
       "      <th>4</th>\n",
       "      <td>giErkj8Al6-egq5XUu2FqA</td>\n",
       "      <td>Michelin starred. Reservations weeks in advanc...</td>\n",
       "      <td>5</td>\n",
       "    </tr>\n",
       "    <tr>\n",
       "      <th>...</th>\n",
       "      <td>...</td>\n",
       "      <td>...</td>\n",
       "      <td>...</td>\n",
       "    </tr>\n",
       "    <tr>\n",
       "      <th>195</th>\n",
       "      <td>qzZwnApIU_zTLaKxguUUuQ</td>\n",
       "      <td>OH EMM GEEE! Make sure you schedule a moment t...</td>\n",
       "      <td>5</td>\n",
       "    </tr>\n",
       "    <tr>\n",
       "      <th>196</th>\n",
       "      <td>uJ6hdwRTutiWk0Mg4XduEQ</td>\n",
       "      <td>The chicken here is done extremely well! The c...</td>\n",
       "      <td>5</td>\n",
       "    </tr>\n",
       "    <tr>\n",
       "      <th>197</th>\n",
       "      <td>hH_CO0dpAgIphCSbufJO8Q</td>\n",
       "      <td>Excellent food and what a great find in Opera ...</td>\n",
       "      <td>5</td>\n",
       "    </tr>\n",
       "    <tr>\n",
       "      <th>198</th>\n",
       "      <td>CT26f0OH_6pntDsvQ0ecpw</td>\n",
       "      <td>This restaurant is basically across the street...</td>\n",
       "      <td>5</td>\n",
       "    </tr>\n",
       "    <tr>\n",
       "      <th>199</th>\n",
       "      <td>2QyKTXpKQCfAwq6_IjSy4A</td>\n",
       "      <td>My wife and I ran into this place as we were s...</td>\n",
       "      <td>5</td>\n",
       "    </tr>\n",
       "  </tbody>\n",
       "</table>\n",
       "<p>200 rows × 3 columns</p>\n",
       "</div>"
      ],
      "text/plain": [
       "                         id  \\\n",
       "0    aGP7nLwEQOUg64jKP8ebsw   \n",
       "1    -to6adg_kucf1SgQckgJXw   \n",
       "2    WMRKQUUR3BmjV_EZg7zVfw   \n",
       "3    U8G3f8ITSlqBzETBDVO8bw   \n",
       "4    giErkj8Al6-egq5XUu2FqA   \n",
       "..                      ...   \n",
       "195  qzZwnApIU_zTLaKxguUUuQ   \n",
       "196  uJ6hdwRTutiWk0Mg4XduEQ   \n",
       "197  hH_CO0dpAgIphCSbufJO8Q   \n",
       "198  CT26f0OH_6pntDsvQ0ecpw   \n",
       "199  2QyKTXpKQCfAwq6_IjSy4A   \n",
       "\n",
       "                                                  text  rating  \n",
       "0    My favorite meal in Paris! \\n\\nWe started off ...       5  \n",
       "1    This is a small bar/restaurant closed to Cathé...       5  \n",
       "2    this is for a review from 2019, this place is ...       5  \n",
       "3    Foods were delicious, great ambiance, and help...       5  \n",
       "4    Michelin starred. Reservations weeks in advanc...       5  \n",
       "..                                                 ...     ...  \n",
       "195  OH EMM GEEE! Make sure you schedule a moment t...       5  \n",
       "196  The chicken here is done extremely well! The c...       5  \n",
       "197  Excellent food and what a great find in Opera ...       5  \n",
       "198  This restaurant is basically across the street...       5  \n",
       "199  My wife and I ran into this place as we were s...       5  \n",
       "\n",
       "[200 rows x 3 columns]"
      ]
     },
     "execution_count": 20,
     "metadata": {},
     "output_type": "execute_result"
    }
   ],
   "source": [
    "df['reviews'].apply(pd.Series)[0].apply(pd.Series)"
   ]
  },
  {
   "cell_type": "code",
   "execution_count": 21,
   "metadata": {},
   "outputs": [],
   "source": [
    "df = pd.concat([df.drop(['reviews'], axis=1), \n",
    "    df['reviews'].apply(pd.Series)[0].apply(pd.Series)]\n",
    "    , axis=1)\n",
    "df.columns = ['id', 'name', 'photos', 'rw_id', 'rw_text',\n",
    "          'rw_rating']"
   ]
  },
  {
   "cell_type": "code",
   "execution_count": 22,
   "metadata": {},
   "outputs": [],
   "source": [
    "df.to_csv('output/restaurants_v2.csv')"
   ]
  },
  {
   "cell_type": "code",
   "execution_count": 487,
   "metadata": {},
   "outputs": [],
   "source": [
    "reviews = df[[\"rw_id\", \"rw_text\"]].copy()"
   ]
  },
  {
   "cell_type": "code",
   "execution_count": 24,
   "metadata": {},
   "outputs": [],
   "source": [
    "photos = df[[\"id\", \"photos\"]]"
   ]
  },
  {
   "cell_type": "markdown",
   "metadata": {},
   "source": [
    "# Analyse des données"
   ]
  },
  {
   "cell_type": "markdown",
   "metadata": {},
   "source": [
    "## Pré traitement des données textuelles"
   ]
  },
  {
   "cell_type": "markdown",
   "metadata": {},
   "source": [
    "Analysons le texte en premier lieu"
   ]
  },
  {
   "cell_type": "code",
   "execution_count": 25,
   "metadata": {},
   "outputs": [],
   "source": [
    "from collections import defaultdict\n",
    "\n",
    "tokenizer = nltk.RegexpTokenizer(r'\\w+')\n",
    "tokenizer.tokenize(\"This is a small bar/restaurant closed to Cathédrale Notre Dame. I always come here for lunch or dinner if I am close by. The hostess is very friendly. The...\")\n",
    "tokenizer = nltk.RegexpTokenizer(r'\\w+')\n"
   ]
  },
  {
   "cell_type": "markdown",
   "metadata": {},
   "source": [
    "Le but est de découvrir les sujets insatisfaisants, nous commençons par compter le nombre de mots."
   ]
  },
  {
   "cell_type": "code",
   "execution_count": 26,
   "metadata": {},
   "outputs": [
    {
     "data": {
      "text/html": [
       "<div>\n",
       "<style scoped>\n",
       "    .dataframe tbody tr th:only-of-type {\n",
       "        vertical-align: middle;\n",
       "    }\n",
       "\n",
       "    .dataframe tbody tr th {\n",
       "        vertical-align: top;\n",
       "    }\n",
       "\n",
       "    .dataframe thead th {\n",
       "        text-align: right;\n",
       "    }\n",
       "</style>\n",
       "<table border=\"1\" class=\"dataframe\">\n",
       "  <thead>\n",
       "    <tr style=\"text-align: right;\">\n",
       "      <th></th>\n",
       "      <th>rw_id</th>\n",
       "      <th>rw_text</th>\n",
       "    </tr>\n",
       "  </thead>\n",
       "  <tbody>\n",
       "    <tr>\n",
       "      <th>0</th>\n",
       "      <td>aGP7nLwEQOUg64jKP8ebsw</td>\n",
       "      <td>My favorite meal in Paris! \\n\\nWe started off ...</td>\n",
       "    </tr>\n",
       "    <tr>\n",
       "      <th>1</th>\n",
       "      <td>-to6adg_kucf1SgQckgJXw</td>\n",
       "      <td>This is a small bar/restaurant closed to Cathé...</td>\n",
       "    </tr>\n",
       "    <tr>\n",
       "      <th>2</th>\n",
       "      <td>WMRKQUUR3BmjV_EZg7zVfw</td>\n",
       "      <td>this is for a review from 2019, this place is ...</td>\n",
       "    </tr>\n",
       "    <tr>\n",
       "      <th>3</th>\n",
       "      <td>U8G3f8ITSlqBzETBDVO8bw</td>\n",
       "      <td>Foods were delicious, great ambiance, and help...</td>\n",
       "    </tr>\n",
       "    <tr>\n",
       "      <th>4</th>\n",
       "      <td>giErkj8Al6-egq5XUu2FqA</td>\n",
       "      <td>Michelin starred. Reservations weeks in advanc...</td>\n",
       "    </tr>\n",
       "    <tr>\n",
       "      <th>...</th>\n",
       "      <td>...</td>\n",
       "      <td>...</td>\n",
       "    </tr>\n",
       "    <tr>\n",
       "      <th>195</th>\n",
       "      <td>qzZwnApIU_zTLaKxguUUuQ</td>\n",
       "      <td>OH EMM GEEE! Make sure you schedule a moment t...</td>\n",
       "    </tr>\n",
       "    <tr>\n",
       "      <th>196</th>\n",
       "      <td>uJ6hdwRTutiWk0Mg4XduEQ</td>\n",
       "      <td>The chicken here is done extremely well! The c...</td>\n",
       "    </tr>\n",
       "    <tr>\n",
       "      <th>197</th>\n",
       "      <td>hH_CO0dpAgIphCSbufJO8Q</td>\n",
       "      <td>Excellent food and what a great find in Opera ...</td>\n",
       "    </tr>\n",
       "    <tr>\n",
       "      <th>198</th>\n",
       "      <td>CT26f0OH_6pntDsvQ0ecpw</td>\n",
       "      <td>This restaurant is basically across the street...</td>\n",
       "    </tr>\n",
       "    <tr>\n",
       "      <th>199</th>\n",
       "      <td>2QyKTXpKQCfAwq6_IjSy4A</td>\n",
       "      <td>My wife and I ran into this place as we were s...</td>\n",
       "    </tr>\n",
       "  </tbody>\n",
       "</table>\n",
       "<p>200 rows × 2 columns</p>\n",
       "</div>"
      ],
      "text/plain": [
       "                      rw_id                                            rw_text\n",
       "0    aGP7nLwEQOUg64jKP8ebsw  My favorite meal in Paris! \\n\\nWe started off ...\n",
       "1    -to6adg_kucf1SgQckgJXw  This is a small bar/restaurant closed to Cathé...\n",
       "2    WMRKQUUR3BmjV_EZg7zVfw  this is for a review from 2019, this place is ...\n",
       "3    U8G3f8ITSlqBzETBDVO8bw  Foods were delicious, great ambiance, and help...\n",
       "4    giErkj8Al6-egq5XUu2FqA  Michelin starred. Reservations weeks in advanc...\n",
       "..                      ...                                                ...\n",
       "195  qzZwnApIU_zTLaKxguUUuQ  OH EMM GEEE! Make sure you schedule a moment t...\n",
       "196  uJ6hdwRTutiWk0Mg4XduEQ  The chicken here is done extremely well! The c...\n",
       "197  hH_CO0dpAgIphCSbufJO8Q  Excellent food and what a great find in Opera ...\n",
       "198  CT26f0OH_6pntDsvQ0ecpw  This restaurant is basically across the street...\n",
       "199  2QyKTXpKQCfAwq6_IjSy4A  My wife and I ran into this place as we were s...\n",
       "\n",
       "[200 rows x 2 columns]"
      ]
     },
     "execution_count": 26,
     "metadata": {},
     "output_type": "execute_result"
    }
   ],
   "source": [
    "reviews"
   ]
  },
  {
   "cell_type": "code",
   "execution_count": 488,
   "metadata": {},
   "outputs": [],
   "source": [
    "reviews[\"rw_text\"] = reviews[\"rw_text\"].str.lower()\n",
    "for index, element in reviews.iterrows():\n",
    "    tokenizer = nltk.RegexpTokenizer(r'\\w+')\n",
    "    tokens = tokenizer.tokenize(element[\"rw_text\"])\n",
    "    reviews.loc[index, \"nb_words\"] = len(tokens)\n",
    "    reviews.loc[index, \"words\"] = str(tokens)"
   ]
  },
  {
   "cell_type": "code",
   "execution_count": 86,
   "metadata": {},
   "outputs": [
    {
     "data": {
      "text/html": [
       "<div>\n",
       "<style scoped>\n",
       "    .dataframe tbody tr th:only-of-type {\n",
       "        vertical-align: middle;\n",
       "    }\n",
       "\n",
       "    .dataframe tbody tr th {\n",
       "        vertical-align: top;\n",
       "    }\n",
       "\n",
       "    .dataframe thead th {\n",
       "        text-align: right;\n",
       "    }\n",
       "</style>\n",
       "<table border=\"1\" class=\"dataframe\">\n",
       "  <thead>\n",
       "    <tr style=\"text-align: right;\">\n",
       "      <th></th>\n",
       "      <th>rw_id</th>\n",
       "      <th>rw_text</th>\n",
       "      <th>nb_words</th>\n",
       "      <th>words</th>\n",
       "    </tr>\n",
       "  </thead>\n",
       "  <tbody>\n",
       "    <tr>\n",
       "      <th>0</th>\n",
       "      <td>aGP7nLwEQOUg64jKP8ebsw</td>\n",
       "      <td>my favorite meal in paris! \\n\\nwe started off ...</td>\n",
       "      <td>28.0</td>\n",
       "      <td>['my', 'favorite', 'meal', 'in', 'paris', 'we'...</td>\n",
       "    </tr>\n",
       "    <tr>\n",
       "      <th>1</th>\n",
       "      <td>-to6adg_kucf1SgQckgJXw</td>\n",
       "      <td>this is a small bar/restaurant closed to cathé...</td>\n",
       "      <td>30.0</td>\n",
       "      <td>['this', 'is', 'a', 'small', 'bar', 'restauran...</td>\n",
       "    </tr>\n",
       "    <tr>\n",
       "      <th>2</th>\n",
       "      <td>WMRKQUUR3BmjV_EZg7zVfw</td>\n",
       "      <td>this is for a review from 2019, this place is ...</td>\n",
       "      <td>25.0</td>\n",
       "      <td>['this', 'is', 'for', 'a', 'review', 'from', '...</td>\n",
       "    </tr>\n",
       "    <tr>\n",
       "      <th>3</th>\n",
       "      <td>U8G3f8ITSlqBzETBDVO8bw</td>\n",
       "      <td>foods were delicious, great ambiance, and help...</td>\n",
       "      <td>24.0</td>\n",
       "      <td>['foods', 'were', 'delicious', 'great', 'ambia...</td>\n",
       "    </tr>\n",
       "    <tr>\n",
       "      <th>4</th>\n",
       "      <td>giErkj8Al6-egq5XUu2FqA</td>\n",
       "      <td>michelin starred. reservations weeks in advanc...</td>\n",
       "      <td>23.0</td>\n",
       "      <td>['michelin', 'starred', 'reservations', 'weeks...</td>\n",
       "    </tr>\n",
       "    <tr>\n",
       "      <th>...</th>\n",
       "      <td>...</td>\n",
       "      <td>...</td>\n",
       "      <td>...</td>\n",
       "      <td>...</td>\n",
       "    </tr>\n",
       "    <tr>\n",
       "      <th>195</th>\n",
       "      <td>qzZwnApIU_zTLaKxguUUuQ</td>\n",
       "      <td>oh emm geee! make sure you schedule a moment t...</td>\n",
       "      <td>32.0</td>\n",
       "      <td>['oh', 'emm', 'geee', 'make', 'sure', 'you', '...</td>\n",
       "    </tr>\n",
       "    <tr>\n",
       "      <th>196</th>\n",
       "      <td>uJ6hdwRTutiWk0Mg4XduEQ</td>\n",
       "      <td>the chicken here is done extremely well! the c...</td>\n",
       "      <td>30.0</td>\n",
       "      <td>['the', 'chicken', 'here', 'is', 'done', 'extr...</td>\n",
       "    </tr>\n",
       "    <tr>\n",
       "      <th>197</th>\n",
       "      <td>hH_CO0dpAgIphCSbufJO8Q</td>\n",
       "      <td>excellent food and what a great find in opera ...</td>\n",
       "      <td>24.0</td>\n",
       "      <td>['excellent', 'food', 'and', 'what', 'a', 'gre...</td>\n",
       "    </tr>\n",
       "    <tr>\n",
       "      <th>198</th>\n",
       "      <td>CT26f0OH_6pntDsvQ0ecpw</td>\n",
       "      <td>this restaurant is basically across the street...</td>\n",
       "      <td>29.0</td>\n",
       "      <td>['this', 'restaurant', 'is', 'basically', 'acr...</td>\n",
       "    </tr>\n",
       "    <tr>\n",
       "      <th>199</th>\n",
       "      <td>2QyKTXpKQCfAwq6_IjSy4A</td>\n",
       "      <td>my wife and i ran into this place as we were s...</td>\n",
       "      <td>31.0</td>\n",
       "      <td>['my', 'wife', 'and', 'i', 'ran', 'into', 'thi...</td>\n",
       "    </tr>\n",
       "  </tbody>\n",
       "</table>\n",
       "<p>200 rows × 4 columns</p>\n",
       "</div>"
      ],
      "text/plain": [
       "                      rw_id  \\\n",
       "0    aGP7nLwEQOUg64jKP8ebsw   \n",
       "1    -to6adg_kucf1SgQckgJXw   \n",
       "2    WMRKQUUR3BmjV_EZg7zVfw   \n",
       "3    U8G3f8ITSlqBzETBDVO8bw   \n",
       "4    giErkj8Al6-egq5XUu2FqA   \n",
       "..                      ...   \n",
       "195  qzZwnApIU_zTLaKxguUUuQ   \n",
       "196  uJ6hdwRTutiWk0Mg4XduEQ   \n",
       "197  hH_CO0dpAgIphCSbufJO8Q   \n",
       "198  CT26f0OH_6pntDsvQ0ecpw   \n",
       "199  2QyKTXpKQCfAwq6_IjSy4A   \n",
       "\n",
       "                                               rw_text  nb_words  \\\n",
       "0    my favorite meal in paris! \\n\\nwe started off ...      28.0   \n",
       "1    this is a small bar/restaurant closed to cathé...      30.0   \n",
       "2    this is for a review from 2019, this place is ...      25.0   \n",
       "3    foods were delicious, great ambiance, and help...      24.0   \n",
       "4    michelin starred. reservations weeks in advanc...      23.0   \n",
       "..                                                 ...       ...   \n",
       "195  oh emm geee! make sure you schedule a moment t...      32.0   \n",
       "196  the chicken here is done extremely well! the c...      30.0   \n",
       "197  excellent food and what a great find in opera ...      24.0   \n",
       "198  this restaurant is basically across the street...      29.0   \n",
       "199  my wife and i ran into this place as we were s...      31.0   \n",
       "\n",
       "                                                 words  \n",
       "0    ['my', 'favorite', 'meal', 'in', 'paris', 'we'...  \n",
       "1    ['this', 'is', 'a', 'small', 'bar', 'restauran...  \n",
       "2    ['this', 'is', 'for', 'a', 'review', 'from', '...  \n",
       "3    ['foods', 'were', 'delicious', 'great', 'ambia...  \n",
       "4    ['michelin', 'starred', 'reservations', 'weeks...  \n",
       "..                                                 ...  \n",
       "195  ['oh', 'emm', 'geee', 'make', 'sure', 'you', '...  \n",
       "196  ['the', 'chicken', 'here', 'is', 'done', 'extr...  \n",
       "197  ['excellent', 'food', 'and', 'what', 'a', 'gre...  \n",
       "198  ['this', 'restaurant', 'is', 'basically', 'acr...  \n",
       "199  ['my', 'wife', 'and', 'i', 'ran', 'into', 'thi...  \n",
       "\n",
       "[200 rows x 4 columns]"
      ]
     },
     "execution_count": 86,
     "metadata": {},
     "output_type": "execute_result"
    }
   ],
   "source": [
    "reviews"
   ]
  },
  {
   "cell_type": "code",
   "execution_count": 29,
   "metadata": {},
   "outputs": [
    {
     "data": {
      "application/vnd.plotly.v1+json": {
       "config": {
        "plotlyServerURL": "https://plotly.com"
       },
       "data": [
        {
         "alignmentgroup": "True",
         "hovertemplate": "rw_id=%{x}<br>nb words=%{marker.color}<extra></extra>",
         "legendgroup": "",
         "marker": {
          "color": [
           34,
           34,
           34,
           33,
           32,
           32,
           32,
           32,
           32,
           32,
           32,
           32,
           32,
           32,
           32,
           32,
           32,
           32,
           31,
           31,
           31,
           31,
           31,
           31,
           31,
           31,
           31,
           31,
           31,
           31,
           31,
           31,
           31,
           31,
           31,
           31,
           30,
           30,
           30,
           30,
           30,
           30,
           30,
           30,
           30,
           30,
           30,
           30,
           30,
           30,
           30,
           30,
           30,
           30,
           30,
           30,
           30,
           30,
           30,
           30,
           30,
           30,
           30,
           30,
           30,
           30,
           30,
           29,
           29,
           29,
           29,
           29,
           29,
           29,
           29,
           29,
           29,
           29,
           29,
           29,
           29,
           29,
           29,
           29,
           29,
           29,
           29,
           29,
           29,
           29,
           29,
           29,
           29,
           28,
           28,
           28,
           28,
           28,
           28,
           28,
           28,
           28,
           28,
           28,
           28,
           28,
           28,
           28,
           28,
           28,
           28,
           28,
           28,
           28,
           28,
           28,
           27,
           27,
           27,
           27,
           27,
           27,
           27,
           27,
           27,
           27,
           27,
           27,
           27,
           27,
           27,
           27,
           27,
           27,
           27,
           27,
           27,
           27,
           26,
           26,
           26,
           26,
           26,
           26,
           26,
           26,
           26,
           26,
           26,
           26,
           26,
           26,
           26,
           26,
           26,
           26,
           26,
           26,
           26,
           26,
           26,
           25,
           25,
           25,
           25,
           25,
           25,
           25,
           25,
           25,
           25,
           25,
           25,
           25,
           25,
           25,
           25,
           25,
           24,
           24,
           24,
           24,
           24,
           24,
           24,
           24,
           24,
           23,
           23,
           23,
           23,
           23,
           23,
           22,
           21,
           21,
           20,
           20,
           18,
           16
          ],
          "coloraxis": "coloraxis",
          "pattern": {
           "shape": ""
          }
         },
         "name": "",
         "offsetgroup": "",
         "orientation": "v",
         "showlegend": false,
         "textposition": "auto",
         "type": "bar",
         "x": [
          "dkkicroZxI_fOiPW4B_GZw",
          "PSznS49UVYueL1zuk8rHOw",
          "N5uDMSXWWgRtumPj9rM29g",
          "vhuOXa3VKwX2lJUTmqQ4Qw",
          "qaOQmunnVf0VQyvtQXCsnw",
          "a3tkImuOupggIOcQH4Yr0g",
          "1MqABnJo1Ci9mHVCeri4NQ",
          "e970XRRbYSDC83PEADB1gw",
          "U8dRPQ-dZotjCQuP8avrOA",
          "93TgZruR-TjaxmnpstD0zw",
          "rJfxKs7UUzZZRB4TOzepuw",
          "5X9RhHD-hNCdCDcl_Cs6ew",
          "GWapDMW7kWS6Nf6J2RWWCw",
          "s9g4NxGJjkMeIp3Nwv19Aw",
          "aWXHQ3vTaTcAvlyBeaQyWg",
          "A9VXJTcSBc08knJ3kxNewg",
          "qzZwnApIU_zTLaKxguUUuQ",
          "xSDPVyOvEhL58pzSnoB_xg",
          "7b0IcXRFD0SZMg95opf0fQ",
          "WZaYeaZFTx1oPCkM3ZQR8A",
          "ZGOjPBAiZa9JNjy2aV9wWw",
          "GGaYCH17JWJewHTWM7OMGg",
          "dOivAsgxci0axZGeHa4M1w",
          "gl_BIdQwVIF6JKMhdLn0Jw",
          "ZKwWQ3Mji4xT05tFHVkC8w",
          "V_8uPDYiu8yTswk7bny8OA",
          "bCyuJSqQxRCjtYaKU-O3Fw",
          "SQaUZ1MX_HU7QPYgTUV0-g",
          "3RFf-8-IbeNUmlNVWxB6Yw",
          "unV7B1Bwf8KUZINV5UeuJQ",
          "Czx5EMIcQDLaFe2_5XPsRg",
          "yI9DVDGp6lkb95J6y7SS7A",
          "2QyKTXpKQCfAwq6_IjSy4A",
          "gMD1K5mk3ka5YcJpX6zrog",
          "UqG5RwoTyVpCbqjQdQEmRg",
          "KslZB2eoXGT1RIyPobvwhg",
          "--TDvPeXeWSbisByn3IAPQ",
          "vs1Aeepu-UrpNZyTzaQxwg",
          "cpi5GcaqwxfrHCp9N5BRcQ",
          "RjZITYl0OOHV6gllqdogcw",
          "GrCzADKSts2ctvO5fLWomg",
          "HF2bmBS95N_S3JRkx50Edg",
          "wejeLM6zS_qWL6U4rU0okg",
          "-to6adg_kucf1SgQckgJXw",
          "DKOGQQueXPMYPOm6myfGcg",
          "UumpdtpKXQV4kXZf6AteSQ",
          "NHnWEk0qDs1sPXfs4-wqvw",
          "uJ6hdwRTutiWk0Mg4XduEQ",
          "5izikpyK7kdJIt2HtrEtvw",
          "weWGOmRIS6pgDfe0SzTMrQ",
          "3u0PefxOlwysE22VZa9OSA",
          "h_Ab3CYE6efKwBArwbk-fg",
          "tGRcu9_TeuHV0vFGShZN8Q",
          "3u88isx8LDU1bZGuntsJsw",
          "AzwRFn3Yb98_bWtHUANb6A",
          "NkjZkxhyK1XbohGgbFEqxw",
          "AAZTqZxRXB8LJ1Rq72rYIg",
          "T9kq69yO2UtQcgjN0bOXtw",
          "FAvm3eR1dt4AC6TMa_lR0g",
          "MTHL17YApyelrD07qAut4g",
          "4coU9nT2PKBUlsQj_DmTFw",
          "ZGUVDusfHh5da01HRAkeNw",
          "rrTeK19B91cACSP-G-99oQ",
          "rNv0l61zSk65lOBDbBR7DA",
          "iV7z1ptEYIKViTxwiuvShg",
          "GlBBpqJZb8PHu32op3pnIw",
          "UwPya4WFWO9EWrMd1NhblA",
          "dCI89yJfBbO555tC2IACTg",
          "U5VZastdAPcWY_vdzgY7_Q",
          "9HJlkHQMwUXmIjgT807A2A",
          "6azks1MlErzfBEvE6wsrsw",
          "un3pGCn6lKHDbaI-hsrk-A",
          "lFgFyFALN6mkjRYjlIqNSw",
          "TeoHvE8-Lg--x8LeTMGnog",
          "b5ZYRxgOy8uF87mlg22ptQ",
          "_pHOfFvvdLdeRpZ-OTnQoA",
          "2tMetkAOmYnwOBRQ8UiMjg",
          "CT26f0OH_6pntDsvQ0ecpw",
          "y4v7sxzumdWNHqgy5K8Jlg",
          "nO6v4O_J2efhbSEn1wkV2g",
          "7kgOw45kaI1PZ5JU-LaBfQ",
          "Ql6OPtC-99bn6ehFuvBVCA",
          "k8EnJ2LD2S3BXodtyB9dZw",
          "FH9IxRPcAFhFheaxHomBQw",
          "eI-0T8OYuoQlCxhO-zb0Nw",
          "VgR7-ykUF5ck1QUlePkT0w",
          "g84iMTg-NcSiUqcBgl-r8g",
          "VjXi_UBcCa8qqgX0FV2iaA",
          "piwNajFI8NEG77r5Vld09w",
          "3t1iKV3dCG6HAIJNwqpBiQ",
          "Z7ep3tiYmCC6cfLpnCzlSg",
          "5PR-JWvIuCqBzY1MCnzyaA",
          "G34F-2R-FpGihSUo092QIg",
          "Kph-T8uzzmHtEonRtI0uBA",
          "v9-ZG_qQWsIdgVIpNlueBg",
          "qzlNF0ZrOpSvY5OTWoYMEw",
          "oxDOA77uPGmokYd6frcuIA",
          "xbPYU-BVRktTrMDe3AOlVw",
          "HkNydFin5v51ZKzxFVvPzw",
          "dBCPYtXeRiqhIvyO81YfCg",
          "A2W7uohWCfWlQTJ6yxsNcg",
          "ovfgq-OvkONcjaPGoJDT7Q",
          "z0RHWmRmEi9PMtB4k9ADNQ",
          "aGP7nLwEQOUg64jKP8ebsw",
          "6TnieFlEHDRVtfSLd4v1TA",
          "laQC1VmUIMqAwg-aY67guQ",
          "yW6qc9nRGUvb2JZCFkmx8w",
          "WEp3KFktAVsOWFeydasMCQ",
          "iZm8ZMEWIo5RVQ5sx-aDbg",
          "9zPoJDR7H1s0P0SeexSIwg",
          "PP2uBR5V9FJOp4x7pATYQg",
          "cRUglWMXwp72PKBOwqJdyw",
          "tzQpWaAO2f25GsfWU1Er2g",
          "KBIA8AZpama4HUc41hyRpQ",
          "W9hw_CCDPpzkZ05kmS-yUA",
          "6VRDbCMuGKSxcYiNx6Sg4g",
          "YZC2Qk8Epd_yKEMnm3DtBw",
          "iKADT3Hv8LZGfLFPCYHdhw",
          "RIcHw78wdtBoWWBS8WiGUQ",
          "X5dhblo8-lJIHhYvELNGhA",
          "ReYRayPUTspPA3HMPqwDFw",
          "mQu4t45Z-HegE-L2AnGVNA",
          "_WRaVuplYdG07Z5eXMTz4A",
          "eSnrQsVrhe9a8lWSEVMlpA",
          "6hn0RaKt7XCniGwED-_37Q",
          "ytkHnF_-kmyttL-jqtnTdg",
          "TIzCr3KugMGGD2RE785wMw",
          "5hun9YUHhQbhrWrtx_yrdA",
          "95kmdLo02hNYlWoXFIkrTA",
          "UMBqzEQZvHtKwZj-2_RqzQ",
          "OfasF1MNlcvQ-s65rBGJ8w",
          "kbDGwZraDiXxVjmBUCJmeA",
          "4jX7c3JCt_SB_dhxmRiOIQ",
          "a-5ckvtsfOPEn2ChWMXdPg",
          "rNxPpcutpWrV_Sf8fpAZvg",
          "I-r8Nj6xkFOdAkTQlhiABQ",
          "QKSATSk4RNbPv31WIQcBzA",
          "Y6TdziI55_sZCOFNpmSHAQ",
          "CgpkbttrVqZkXrWKaRESRA",
          "NYoivQumdNEQwAwGLPQRrg",
          "UFbjP0tVS8VTtq2s762IDA",
          "FmuYWCt1f2pmSlepvz6k6w",
          "9VhMVc7azUiDTfCDz-YQEg",
          "zbllMrfFcxBT9iOtjv4nFA",
          "6AsbQ0j75s00fY3ABgt9WA",
          "T4xMKI3nvaYy89yYbVhjAA",
          "u2ru7LfQNWfMKBwQOw8PWQ",
          "bFUe2_SLgkzas71ML9D4vg",
          "AlNpI3LawtLeHfmi89rfHw",
          "WK2qKQrAJHEjm_WLXFLYuA",
          "BI4vklBPKlVpB3D2dIVKtw",
          "EmxQGB1LwEYUD1YhHMgL6w",
          "PmncWe7Ir9L8EJZT5rsjTw",
          "GAGAPVUA4G6zNPi7Vtfumg",
          "DW6gVnCkT1yV3ZHp7Ktx-w",
          "JIiCwKFnpBL76fOX79pwRg",
          "nwtdJ6DxhNdy0_guq77LWA",
          "NoEGY1mULYcZw-HRznreSw",
          "F530kXWYfzhfDDiTQbhJPw",
          "4KzjhSxwVcSAMaCRHXcAog",
          "bJNWq9qdikfH-l3t6P7xfA",
          "GtG8YO3SK9cvMx-APM4rBQ",
          "Ood4aqtEFuRigRdf1Fd4lg",
          "C6A61a0wAOVgepdcD_TxjQ",
          "qJj-xEjF9sPGgyEVcBzfJw",
          "L3734quSeMkHJl49kJINjw",
          "zUugWhUM0kCTV3GOGm0-fg",
          "hiVILjoj4qcKApkY0q9CHw",
          "TGnVmVkCciL4ezEah4mccA",
          "w85VihoPenq2ADTUQ9TMJQ",
          "WMRKQUUR3BmjV_EZg7zVfw",
          "QwqvhVBWNNjumVkffPIeiQ",
          "QrIu8mOyb7cD39aSXkNFyA",
          "2SexKyV9fM0kZ4KV1EhE9Q",
          "WZgU_NdPlyXWHBuQi3LEPA",
          "HTS76HRgMWLa2_6SMMfDbg",
          "p-Q9MZRsaZxQkRzjrWm5mg",
          "8K55IjQ3sKHeRIJgkuY-kA",
          "hH_CO0dpAgIphCSbufJO8Q",
          "U8G3f8ITSlqBzETBDVO8bw",
          "Te3OKBxkAdY2VH5BdgVDxA",
          "HIYu8b2ZUjGVMZA1jJzGSQ",
          "EgTnOJKJhoMlwhgkwb-Cyw",
          "nVN-RuBq0YBHKmeofIZZxQ",
          "CiU41MX8pKVIk1R_LBkthA",
          "mbc9n_ALEiXUCAK_aj2Ayw",
          "RzQPuurYvX67CyLqTMInCg",
          "Lowv8jdDf9jNn6eHBNIWBg",
          "LlAibd1Hdo61qzN2PMCWsg",
          "PDrO6n7fUMhl5Vvu1cLBvQ",
          "giErkj8Al6-egq5XUu2FqA",
          "rdsyIvhI_C0bZRubXfxrPQ",
          "NcsXlh7WJpwSmYf7LCY1SA",
          "D1BtvKMrKUBc_60DKIQ3Xw",
          "iXj-eYXY9bkE9NLpTB0T6g",
          "uN1oO90lAjvQmrSuHJpMhA",
          "vMz3NTvOz8G5tdXIisIHkg",
          "_ONeVA_OC3sMzeZdRcLkrg",
          "4N2grhEfuoRsWGawERBkVw",
          "yocQhHRb3Sg8M6yxvcVEKw"
         ],
         "xaxis": "x",
         "y": [
          34,
          34,
          34,
          33,
          32,
          32,
          32,
          32,
          32,
          32,
          32,
          32,
          32,
          32,
          32,
          32,
          32,
          32,
          31,
          31,
          31,
          31,
          31,
          31,
          31,
          31,
          31,
          31,
          31,
          31,
          31,
          31,
          31,
          31,
          31,
          31,
          30,
          30,
          30,
          30,
          30,
          30,
          30,
          30,
          30,
          30,
          30,
          30,
          30,
          30,
          30,
          30,
          30,
          30,
          30,
          30,
          30,
          30,
          30,
          30,
          30,
          30,
          30,
          30,
          30,
          30,
          30,
          29,
          29,
          29,
          29,
          29,
          29,
          29,
          29,
          29,
          29,
          29,
          29,
          29,
          29,
          29,
          29,
          29,
          29,
          29,
          29,
          29,
          29,
          29,
          29,
          29,
          29,
          28,
          28,
          28,
          28,
          28,
          28,
          28,
          28,
          28,
          28,
          28,
          28,
          28,
          28,
          28,
          28,
          28,
          28,
          28,
          28,
          28,
          28,
          28,
          27,
          27,
          27,
          27,
          27,
          27,
          27,
          27,
          27,
          27,
          27,
          27,
          27,
          27,
          27,
          27,
          27,
          27,
          27,
          27,
          27,
          27,
          26,
          26,
          26,
          26,
          26,
          26,
          26,
          26,
          26,
          26,
          26,
          26,
          26,
          26,
          26,
          26,
          26,
          26,
          26,
          26,
          26,
          26,
          26,
          25,
          25,
          25,
          25,
          25,
          25,
          25,
          25,
          25,
          25,
          25,
          25,
          25,
          25,
          25,
          25,
          25,
          24,
          24,
          24,
          24,
          24,
          24,
          24,
          24,
          24,
          23,
          23,
          23,
          23,
          23,
          23,
          22,
          21,
          21,
          20,
          20,
          18,
          16
         ],
         "yaxis": "y"
        }
       ],
       "layout": {
        "barmode": "relative",
        "coloraxis": {
         "colorbar": {
          "title": {
           "text": "nb words"
          }
         },
         "colorscale": [
          [
           0,
           "rgb(246, 210, 169)"
          ],
          [
           0.16666666666666666,
           "rgb(245, 183, 142)"
          ],
          [
           0.3333333333333333,
           "rgb(241, 156, 124)"
          ],
          [
           0.5,
           "rgb(234, 129, 113)"
          ],
          [
           0.6666666666666666,
           "rgb(221, 104, 108)"
          ],
          [
           0.8333333333333334,
           "rgb(202, 82, 104)"
          ],
          [
           1,
           "rgb(177, 63, 100)"
          ]
         ]
        },
        "legend": {
         "tracegroupgap": 0
        },
        "margin": {
         "t": 60
        },
        "plot_bgcolor": "rgba(0, 0, 0, 0)",
        "template": {
         "data": {
          "bar": [
           {
            "error_x": {
             "color": "#2a3f5f"
            },
            "error_y": {
             "color": "#2a3f5f"
            },
            "marker": {
             "line": {
              "color": "#E5ECF6",
              "width": 0.5
             },
             "pattern": {
              "fillmode": "overlay",
              "size": 10,
              "solidity": 0.2
             }
            },
            "type": "bar"
           }
          ],
          "barpolar": [
           {
            "marker": {
             "line": {
              "color": "#E5ECF6",
              "width": 0.5
             },
             "pattern": {
              "fillmode": "overlay",
              "size": 10,
              "solidity": 0.2
             }
            },
            "type": "barpolar"
           }
          ],
          "carpet": [
           {
            "aaxis": {
             "endlinecolor": "#2a3f5f",
             "gridcolor": "white",
             "linecolor": "white",
             "minorgridcolor": "white",
             "startlinecolor": "#2a3f5f"
            },
            "baxis": {
             "endlinecolor": "#2a3f5f",
             "gridcolor": "white",
             "linecolor": "white",
             "minorgridcolor": "white",
             "startlinecolor": "#2a3f5f"
            },
            "type": "carpet"
           }
          ],
          "choropleth": [
           {
            "colorbar": {
             "outlinewidth": 0,
             "ticks": ""
            },
            "type": "choropleth"
           }
          ],
          "contour": [
           {
            "colorbar": {
             "outlinewidth": 0,
             "ticks": ""
            },
            "colorscale": [
             [
              0,
              "#0d0887"
             ],
             [
              0.1111111111111111,
              "#46039f"
             ],
             [
              0.2222222222222222,
              "#7201a8"
             ],
             [
              0.3333333333333333,
              "#9c179e"
             ],
             [
              0.4444444444444444,
              "#bd3786"
             ],
             [
              0.5555555555555556,
              "#d8576b"
             ],
             [
              0.6666666666666666,
              "#ed7953"
             ],
             [
              0.7777777777777778,
              "#fb9f3a"
             ],
             [
              0.8888888888888888,
              "#fdca26"
             ],
             [
              1,
              "#f0f921"
             ]
            ],
            "type": "contour"
           }
          ],
          "contourcarpet": [
           {
            "colorbar": {
             "outlinewidth": 0,
             "ticks": ""
            },
            "type": "contourcarpet"
           }
          ],
          "heatmap": [
           {
            "colorbar": {
             "outlinewidth": 0,
             "ticks": ""
            },
            "colorscale": [
             [
              0,
              "#0d0887"
             ],
             [
              0.1111111111111111,
              "#46039f"
             ],
             [
              0.2222222222222222,
              "#7201a8"
             ],
             [
              0.3333333333333333,
              "#9c179e"
             ],
             [
              0.4444444444444444,
              "#bd3786"
             ],
             [
              0.5555555555555556,
              "#d8576b"
             ],
             [
              0.6666666666666666,
              "#ed7953"
             ],
             [
              0.7777777777777778,
              "#fb9f3a"
             ],
             [
              0.8888888888888888,
              "#fdca26"
             ],
             [
              1,
              "#f0f921"
             ]
            ],
            "type": "heatmap"
           }
          ],
          "heatmapgl": [
           {
            "colorbar": {
             "outlinewidth": 0,
             "ticks": ""
            },
            "colorscale": [
             [
              0,
              "#0d0887"
             ],
             [
              0.1111111111111111,
              "#46039f"
             ],
             [
              0.2222222222222222,
              "#7201a8"
             ],
             [
              0.3333333333333333,
              "#9c179e"
             ],
             [
              0.4444444444444444,
              "#bd3786"
             ],
             [
              0.5555555555555556,
              "#d8576b"
             ],
             [
              0.6666666666666666,
              "#ed7953"
             ],
             [
              0.7777777777777778,
              "#fb9f3a"
             ],
             [
              0.8888888888888888,
              "#fdca26"
             ],
             [
              1,
              "#f0f921"
             ]
            ],
            "type": "heatmapgl"
           }
          ],
          "histogram": [
           {
            "marker": {
             "pattern": {
              "fillmode": "overlay",
              "size": 10,
              "solidity": 0.2
             }
            },
            "type": "histogram"
           }
          ],
          "histogram2d": [
           {
            "colorbar": {
             "outlinewidth": 0,
             "ticks": ""
            },
            "colorscale": [
             [
              0,
              "#0d0887"
             ],
             [
              0.1111111111111111,
              "#46039f"
             ],
             [
              0.2222222222222222,
              "#7201a8"
             ],
             [
              0.3333333333333333,
              "#9c179e"
             ],
             [
              0.4444444444444444,
              "#bd3786"
             ],
             [
              0.5555555555555556,
              "#d8576b"
             ],
             [
              0.6666666666666666,
              "#ed7953"
             ],
             [
              0.7777777777777778,
              "#fb9f3a"
             ],
             [
              0.8888888888888888,
              "#fdca26"
             ],
             [
              1,
              "#f0f921"
             ]
            ],
            "type": "histogram2d"
           }
          ],
          "histogram2dcontour": [
           {
            "colorbar": {
             "outlinewidth": 0,
             "ticks": ""
            },
            "colorscale": [
             [
              0,
              "#0d0887"
             ],
             [
              0.1111111111111111,
              "#46039f"
             ],
             [
              0.2222222222222222,
              "#7201a8"
             ],
             [
              0.3333333333333333,
              "#9c179e"
             ],
             [
              0.4444444444444444,
              "#bd3786"
             ],
             [
              0.5555555555555556,
              "#d8576b"
             ],
             [
              0.6666666666666666,
              "#ed7953"
             ],
             [
              0.7777777777777778,
              "#fb9f3a"
             ],
             [
              0.8888888888888888,
              "#fdca26"
             ],
             [
              1,
              "#f0f921"
             ]
            ],
            "type": "histogram2dcontour"
           }
          ],
          "mesh3d": [
           {
            "colorbar": {
             "outlinewidth": 0,
             "ticks": ""
            },
            "type": "mesh3d"
           }
          ],
          "parcoords": [
           {
            "line": {
             "colorbar": {
              "outlinewidth": 0,
              "ticks": ""
             }
            },
            "type": "parcoords"
           }
          ],
          "pie": [
           {
            "automargin": true,
            "type": "pie"
           }
          ],
          "scatter": [
           {
            "marker": {
             "colorbar": {
              "outlinewidth": 0,
              "ticks": ""
             }
            },
            "type": "scatter"
           }
          ],
          "scatter3d": [
           {
            "line": {
             "colorbar": {
              "outlinewidth": 0,
              "ticks": ""
             }
            },
            "marker": {
             "colorbar": {
              "outlinewidth": 0,
              "ticks": ""
             }
            },
            "type": "scatter3d"
           }
          ],
          "scattercarpet": [
           {
            "marker": {
             "colorbar": {
              "outlinewidth": 0,
              "ticks": ""
             }
            },
            "type": "scattercarpet"
           }
          ],
          "scattergeo": [
           {
            "marker": {
             "colorbar": {
              "outlinewidth": 0,
              "ticks": ""
             }
            },
            "type": "scattergeo"
           }
          ],
          "scattergl": [
           {
            "marker": {
             "colorbar": {
              "outlinewidth": 0,
              "ticks": ""
             }
            },
            "type": "scattergl"
           }
          ],
          "scattermapbox": [
           {
            "marker": {
             "colorbar": {
              "outlinewidth": 0,
              "ticks": ""
             }
            },
            "type": "scattermapbox"
           }
          ],
          "scatterpolar": [
           {
            "marker": {
             "colorbar": {
              "outlinewidth": 0,
              "ticks": ""
             }
            },
            "type": "scatterpolar"
           }
          ],
          "scatterpolargl": [
           {
            "marker": {
             "colorbar": {
              "outlinewidth": 0,
              "ticks": ""
             }
            },
            "type": "scatterpolargl"
           }
          ],
          "scatterternary": [
           {
            "marker": {
             "colorbar": {
              "outlinewidth": 0,
              "ticks": ""
             }
            },
            "type": "scatterternary"
           }
          ],
          "surface": [
           {
            "colorbar": {
             "outlinewidth": 0,
             "ticks": ""
            },
            "colorscale": [
             [
              0,
              "#0d0887"
             ],
             [
              0.1111111111111111,
              "#46039f"
             ],
             [
              0.2222222222222222,
              "#7201a8"
             ],
             [
              0.3333333333333333,
              "#9c179e"
             ],
             [
              0.4444444444444444,
              "#bd3786"
             ],
             [
              0.5555555555555556,
              "#d8576b"
             ],
             [
              0.6666666666666666,
              "#ed7953"
             ],
             [
              0.7777777777777778,
              "#fb9f3a"
             ],
             [
              0.8888888888888888,
              "#fdca26"
             ],
             [
              1,
              "#f0f921"
             ]
            ],
            "type": "surface"
           }
          ],
          "table": [
           {
            "cells": {
             "fill": {
              "color": "#EBF0F8"
             },
             "line": {
              "color": "white"
             }
            },
            "header": {
             "fill": {
              "color": "#C8D4E3"
             },
             "line": {
              "color": "white"
             }
            },
            "type": "table"
           }
          ]
         },
         "layout": {
          "annotationdefaults": {
           "arrowcolor": "#2a3f5f",
           "arrowhead": 0,
           "arrowwidth": 1
          },
          "autotypenumbers": "strict",
          "coloraxis": {
           "colorbar": {
            "outlinewidth": 0,
            "ticks": ""
           }
          },
          "colorscale": {
           "diverging": [
            [
             0,
             "#8e0152"
            ],
            [
             0.1,
             "#c51b7d"
            ],
            [
             0.2,
             "#de77ae"
            ],
            [
             0.3,
             "#f1b6da"
            ],
            [
             0.4,
             "#fde0ef"
            ],
            [
             0.5,
             "#f7f7f7"
            ],
            [
             0.6,
             "#e6f5d0"
            ],
            [
             0.7,
             "#b8e186"
            ],
            [
             0.8,
             "#7fbc41"
            ],
            [
             0.9,
             "#4d9221"
            ],
            [
             1,
             "#276419"
            ]
           ],
           "sequential": [
            [
             0,
             "#0d0887"
            ],
            [
             0.1111111111111111,
             "#46039f"
            ],
            [
             0.2222222222222222,
             "#7201a8"
            ],
            [
             0.3333333333333333,
             "#9c179e"
            ],
            [
             0.4444444444444444,
             "#bd3786"
            ],
            [
             0.5555555555555556,
             "#d8576b"
            ],
            [
             0.6666666666666666,
             "#ed7953"
            ],
            [
             0.7777777777777778,
             "#fb9f3a"
            ],
            [
             0.8888888888888888,
             "#fdca26"
            ],
            [
             1,
             "#f0f921"
            ]
           ],
           "sequentialminus": [
            [
             0,
             "#0d0887"
            ],
            [
             0.1111111111111111,
             "#46039f"
            ],
            [
             0.2222222222222222,
             "#7201a8"
            ],
            [
             0.3333333333333333,
             "#9c179e"
            ],
            [
             0.4444444444444444,
             "#bd3786"
            ],
            [
             0.5555555555555556,
             "#d8576b"
            ],
            [
             0.6666666666666666,
             "#ed7953"
            ],
            [
             0.7777777777777778,
             "#fb9f3a"
            ],
            [
             0.8888888888888888,
             "#fdca26"
            ],
            [
             1,
             "#f0f921"
            ]
           ]
          },
          "colorway": [
           "#636efa",
           "#EF553B",
           "#00cc96",
           "#ab63fa",
           "#FFA15A",
           "#19d3f3",
           "#FF6692",
           "#B6E880",
           "#FF97FF",
           "#FECB52"
          ],
          "font": {
           "color": "#2a3f5f"
          },
          "geo": {
           "bgcolor": "white",
           "lakecolor": "white",
           "landcolor": "#E5ECF6",
           "showlakes": true,
           "showland": true,
           "subunitcolor": "white"
          },
          "hoverlabel": {
           "align": "left"
          },
          "hovermode": "closest",
          "mapbox": {
           "style": "light"
          },
          "paper_bgcolor": "white",
          "plot_bgcolor": "#E5ECF6",
          "polar": {
           "angularaxis": {
            "gridcolor": "white",
            "linecolor": "white",
            "ticks": ""
           },
           "bgcolor": "#E5ECF6",
           "radialaxis": {
            "gridcolor": "white",
            "linecolor": "white",
            "ticks": ""
           }
          },
          "scene": {
           "xaxis": {
            "backgroundcolor": "#E5ECF6",
            "gridcolor": "white",
            "gridwidth": 2,
            "linecolor": "white",
            "showbackground": true,
            "ticks": "",
            "zerolinecolor": "white"
           },
           "yaxis": {
            "backgroundcolor": "#E5ECF6",
            "gridcolor": "white",
            "gridwidth": 2,
            "linecolor": "white",
            "showbackground": true,
            "ticks": "",
            "zerolinecolor": "white"
           },
           "zaxis": {
            "backgroundcolor": "#E5ECF6",
            "gridcolor": "white",
            "gridwidth": 2,
            "linecolor": "white",
            "showbackground": true,
            "ticks": "",
            "zerolinecolor": "white"
           }
          },
          "shapedefaults": {
           "line": {
            "color": "#2a3f5f"
           }
          },
          "ternary": {
           "aaxis": {
            "gridcolor": "white",
            "linecolor": "white",
            "ticks": ""
           },
           "baxis": {
            "gridcolor": "white",
            "linecolor": "white",
            "ticks": ""
           },
           "bgcolor": "#E5ECF6",
           "caxis": {
            "gridcolor": "white",
            "linecolor": "white",
            "ticks": ""
           }
          },
          "title": {
           "x": 0.05
          },
          "xaxis": {
           "automargin": true,
           "gridcolor": "white",
           "linecolor": "white",
           "ticks": "",
           "title": {
            "standoff": 15
           },
           "zerolinecolor": "white",
           "zerolinewidth": 2
          },
          "yaxis": {
           "automargin": true,
           "gridcolor": "white",
           "linecolor": "white",
           "ticks": "",
           "title": {
            "standoff": 15
           },
           "zerolinecolor": "white",
           "zerolinewidth": 2
          }
         }
        },
        "title": {
         "text": "Nombre de mots par commentaire"
        },
        "xaxis": {
         "anchor": "y",
         "domain": [
          0,
          1
         ],
         "title": {
          "text": "rw_id"
         }
        },
        "yaxis": {
         "anchor": "x",
         "domain": [
          0,
          1
         ],
         "title": {
          "text": "nb words"
         }
        }
       }
      }
     },
     "metadata": {},
     "output_type": "display_data"
    }
   ],
   "source": [
    "graph = reviews.sort_values(by='nb_words', ascending=False)\n",
    "pk.graph_intv_bar(graph, 'rw_id', 'nb_words', \"rw_id\", \"nb words\", 'redor', \"Nombre de mots par commentaire\")"
   ]
  },
  {
   "cell_type": "markdown",
   "metadata": {},
   "source": [
    "Regardons les mots les plus fréquents"
   ]
  },
  {
   "cell_type": "code",
   "execution_count": 93,
   "metadata": {},
   "outputs": [
    {
     "data": {
      "image/png": "[encoded data removed]",
      "text/plain": [
       "<Figure size 576x396 with 1 Axes>"
      ]
     },
     "metadata": {},
     "output_type": "display_data"
    },
    {
     "data": {
      "text/plain": [
       "<AxesSubplot:xlabel='Samples', ylabel='Counts'>"
      ]
     },
     "execution_count": 93,
     "metadata": {},
     "output_type": "execute_result"
    }
   ],
   "source": [
    "word_mostfreq = str(list(reviews[\"rw_text\"]))\n",
    "fdist = nltk.FreqDist(tokenizer.tokenize(word_mostfreq))\n",
    "fdist.plot(30)"
   ]
  },
  {
   "cell_type": "markdown",
   "metadata": {},
   "source": [
    "Réalisons une fonction."
   ]
  },
  {
   "cell_type": "code",
   "execution_count": 94,
   "metadata": {},
   "outputs": [],
   "source": [
    "def nb_most_frequent_plt(df_var):\n",
    "    word_mostfreq = str(list(df_var))\n",
    "    fdist = nltk.FreqDist(tokenizer.tokenize(word_mostfreq))\n",
    "    fdist.plot(30)"
   ]
  },
  {
   "cell_type": "markdown",
   "metadata": {},
   "source": [
    "Nous observons des mots communs comme \"the\" qui ne seront pas utiles."
   ]
  },
  {
   "cell_type": "code",
   "execution_count": 486,
   "metadata": {},
   "outputs": [
    {
     "data": {
      "text/plain": [
       "64313"
      ]
     },
     "execution_count": 486,
     "metadata": {},
     "output_type": "execute_result"
    }
   ],
   "source": [
    "gc.collect()"
   ]
  },
  {
   "cell_type": "code",
   "execution_count": 489,
   "metadata": {},
   "outputs": [
    {
     "name": "stdout",
     "output_type": "stream",
     "text": [
      "['i', 'me', 'my', 'myself', 'we', 'our', 'ours', 'ourselves', 'you', \"you're\", \"you've\", \"you'll\", \"you'd\", 'your', 'yours', 'yourself', 'yourselves', 'he', 'him', 'his', 'himself', 'she', \"she's\", 'her', 'hers', 'herself', 'it', \"it's\", 'its', 'itself', 'they', 'them', 'their', 'theirs', 'themselves', 'what', 'which', 'who', 'whom', 'this', 'that', \"that'll\", 'these', 'those', 'am', 'is', 'are', 'was', 'were', 'be', 'been', 'being', 'have', 'has', 'had', 'having', 'do', 'does', 'did', 'doing', 'a', 'an', 'the', 'and', 'but', 'if', 'or', 'because', 'as', 'until', 'while', 'of', 'at', 'by', 'for', 'with', 'about', 'against', 'between', 'into', 'through', 'during', 'before', 'after', 'above', 'below', 'to', 'from', 'up', 'down', 'in', 'out', 'on', 'off', 'over', 'under', 'again', 'further', 'then', 'once', 'here', 'there', 'when', 'where', 'why', 'how', 'all', 'any', 'both', 'each', 'few', 'more', 'most', 'other', 'some', 'such', 'no', 'nor', 'not', 'only', 'own', 'same', 'so', 'than', 'too', 'very', 's', 't', 'can', 'will', 'just', 'don', \"don't\", 'should', \"should've\", 'now', 'd', 'll', 'm', 'o', 're', 've', 'y', 'ain', 'aren', \"aren't\", 'couldn', \"couldn't\", 'didn', \"didn't\", 'doesn', \"doesn't\", 'hadn', \"hadn't\", 'hasn', \"hasn't\", 'haven', \"haven't\", 'isn', \"isn't\", 'ma', 'mightn', \"mightn't\", 'mustn', \"mustn't\", 'needn', \"needn't\", 'shan', \"shan't\", 'shouldn', \"shouldn't\", 'wasn', \"wasn't\", 'weren', \"weren't\", 'won', \"won't\", 'wouldn', \"wouldn't\"]\n"
     ]
    },
    {
     "name": "stderr",
     "output_type": "stream",
     "text": [
      "[nltk_data] Downloading package stopwords to\n",
      "[nltk_data]     C:\\Users\\aurel\\AppData\\Roaming\\nltk_data...\n",
      "[nltk_data]   Package stopwords is already up-to-date!\n"
     ]
    }
   ],
   "source": [
    "from nltk.corpus import stopwords\n",
    "nltk.download('stopwords')\n",
    "\n",
    "sw_nltk = stopwords.words('english')\n",
    "print(sw_nltk)"
   ]
  },
  {
   "cell_type": "markdown",
   "metadata": {},
   "source": [
    "Dans la liste stopwords du package, il y a des mots qui sont importants pour l'identification des sentiments comme \"very\" ou les négations (\"not\"...)\n",
    "Supprimons ces éléments de la liste de stopwords."
   ]
  },
  {
   "cell_type": "code",
   "execution_count": 490,
   "metadata": {},
   "outputs": [],
   "source": [
    "keep_words = [\"you're\", \"you've\", \"you'll\", \"you'd\", \n",
    "\"she's\", \"it's\", \"that'll\", 'is', 'are', \n",
    "  'was', 'were', 'be', 'been', 'being', 'have', 'has', 'had', 'having', 'do', 'does', 'did', \n",
    "  'doing', 'on', 'off', 'again', 'further', 'all', 'any', 'both', 'each', 'few', 'more',\n",
    "    'most', 'other', 'some', 'such', 'no', 'nor', 'not', 'only', 'own', 'same', 'than', \n",
    "    'too', 'very', 's', 't', 'can', 'will', 'just', 'don', \"don't\", 'should', \"should've\",\n",
    "     'd', 'll', 'm', 'o', 're', 've', 'y', 'ain', 'aren', \"aren't\", 'couldn', \"couldn't\", 'didn',\n",
    "      \"didn't\", 'doesn', \"doesn't\", 'hadn', \"hadn't\", 'hasn', \"hasn't\", 'haven', \"haven't\", 'isn', \n",
    "      \"isn't\", 'ma', 'mightn', \"mightn't\", 'mustn', \"mustn't\", 'needn', \"needn't\", 'shan', \"shan't\", \n",
    "      'shouldn', \"shouldn't\", 'wasn', \"wasn't\", 'weren', \"weren't\", 'won', \"won't\", 'wouldn', \"wouldn't\"]\n",
    "new_sw_nltk = [word for word in sw_nltk if word not in keep_words]"
   ]
  },
  {
   "cell_type": "code",
   "execution_count": 491,
   "metadata": {},
   "outputs": [],
   "source": [
    "new_sw_nltk.append(\"paris\")"
   ]
  },
  {
   "cell_type": "markdown",
   "metadata": {},
   "source": [
    "Ces mots n'apportent pas de sens concernant les sentiments dans les phrases. Autrement dit, ce sont des mots dit vides pour notre projet."
   ]
  },
  {
   "cell_type": "code",
   "execution_count": 492,
   "metadata": {},
   "outputs": [
    {
     "data": {
      "text/html": [
       "<div>\n",
       "<style scoped>\n",
       "    .dataframe tbody tr th:only-of-type {\n",
       "        vertical-align: middle;\n",
       "    }\n",
       "\n",
       "    .dataframe tbody tr th {\n",
       "        vertical-align: top;\n",
       "    }\n",
       "\n",
       "    .dataframe thead th {\n",
       "        text-align: right;\n",
       "    }\n",
       "</style>\n",
       "<table border=\"1\" class=\"dataframe\">\n",
       "  <thead>\n",
       "    <tr style=\"text-align: right;\">\n",
       "      <th></th>\n",
       "      <th>rw_id</th>\n",
       "      <th>rw_text</th>\n",
       "      <th>nb_words</th>\n",
       "      <th>words</th>\n",
       "    </tr>\n",
       "  </thead>\n",
       "  <tbody>\n",
       "    <tr>\n",
       "      <th>0</th>\n",
       "      <td>aGP7nLwEQOUg64jKP8ebsw</td>\n",
       "      <td>my favorite meal in paris! \\n\\nwe started off ...</td>\n",
       "      <td>28.0</td>\n",
       "      <td>['my', 'favorite', 'meal', 'in', 'paris', 'we'...</td>\n",
       "    </tr>\n",
       "    <tr>\n",
       "      <th>1</th>\n",
       "      <td>-to6adg_kucf1SgQckgJXw</td>\n",
       "      <td>this is a small bar/restaurant closed to cathé...</td>\n",
       "      <td>30.0</td>\n",
       "      <td>['this', 'is', 'a', 'small', 'bar', 'restauran...</td>\n",
       "    </tr>\n",
       "    <tr>\n",
       "      <th>2</th>\n",
       "      <td>WMRKQUUR3BmjV_EZg7zVfw</td>\n",
       "      <td>this is for a review from 2019, this place is ...</td>\n",
       "      <td>25.0</td>\n",
       "      <td>['this', 'is', 'for', 'a', 'review', 'from', '...</td>\n",
       "    </tr>\n",
       "    <tr>\n",
       "      <th>3</th>\n",
       "      <td>U8G3f8ITSlqBzETBDVO8bw</td>\n",
       "      <td>foods were delicious, great ambiance, and help...</td>\n",
       "      <td>24.0</td>\n",
       "      <td>['foods', 'were', 'delicious', 'great', 'ambia...</td>\n",
       "    </tr>\n",
       "    <tr>\n",
       "      <th>4</th>\n",
       "      <td>giErkj8Al6-egq5XUu2FqA</td>\n",
       "      <td>michelin starred. reservations weeks in advanc...</td>\n",
       "      <td>23.0</td>\n",
       "      <td>['michelin', 'starred', 'reservations', 'weeks...</td>\n",
       "    </tr>\n",
       "    <tr>\n",
       "      <th>...</th>\n",
       "      <td>...</td>\n",
       "      <td>...</td>\n",
       "      <td>...</td>\n",
       "      <td>...</td>\n",
       "    </tr>\n",
       "    <tr>\n",
       "      <th>195</th>\n",
       "      <td>qzZwnApIU_zTLaKxguUUuQ</td>\n",
       "      <td>oh emm geee! make sure you schedule a moment t...</td>\n",
       "      <td>32.0</td>\n",
       "      <td>['oh', 'emm', 'geee', 'make', 'sure', 'you', '...</td>\n",
       "    </tr>\n",
       "    <tr>\n",
       "      <th>196</th>\n",
       "      <td>uJ6hdwRTutiWk0Mg4XduEQ</td>\n",
       "      <td>the chicken here is done extremely well! the c...</td>\n",
       "      <td>30.0</td>\n",
       "      <td>['the', 'chicken', 'here', 'is', 'done', 'extr...</td>\n",
       "    </tr>\n",
       "    <tr>\n",
       "      <th>197</th>\n",
       "      <td>hH_CO0dpAgIphCSbufJO8Q</td>\n",
       "      <td>excellent food and what a great find in opera ...</td>\n",
       "      <td>24.0</td>\n",
       "      <td>['excellent', 'food', 'and', 'what', 'a', 'gre...</td>\n",
       "    </tr>\n",
       "    <tr>\n",
       "      <th>198</th>\n",
       "      <td>CT26f0OH_6pntDsvQ0ecpw</td>\n",
       "      <td>this restaurant is basically across the street...</td>\n",
       "      <td>29.0</td>\n",
       "      <td>['this', 'restaurant', 'is', 'basically', 'acr...</td>\n",
       "    </tr>\n",
       "    <tr>\n",
       "      <th>199</th>\n",
       "      <td>2QyKTXpKQCfAwq6_IjSy4A</td>\n",
       "      <td>my wife and i ran into this place as we were s...</td>\n",
       "      <td>31.0</td>\n",
       "      <td>['my', 'wife', 'and', 'i', 'ran', 'into', 'thi...</td>\n",
       "    </tr>\n",
       "  </tbody>\n",
       "</table>\n",
       "<p>200 rows × 4 columns</p>\n",
       "</div>"
      ],
      "text/plain": [
       "                      rw_id  \\\n",
       "0    aGP7nLwEQOUg64jKP8ebsw   \n",
       "1    -to6adg_kucf1SgQckgJXw   \n",
       "2    WMRKQUUR3BmjV_EZg7zVfw   \n",
       "3    U8G3f8ITSlqBzETBDVO8bw   \n",
       "4    giErkj8Al6-egq5XUu2FqA   \n",
       "..                      ...   \n",
       "195  qzZwnApIU_zTLaKxguUUuQ   \n",
       "196  uJ6hdwRTutiWk0Mg4XduEQ   \n",
       "197  hH_CO0dpAgIphCSbufJO8Q   \n",
       "198  CT26f0OH_6pntDsvQ0ecpw   \n",
       "199  2QyKTXpKQCfAwq6_IjSy4A   \n",
       "\n",
       "                                               rw_text  nb_words  \\\n",
       "0    my favorite meal in paris! \\n\\nwe started off ...      28.0   \n",
       "1    this is a small bar/restaurant closed to cathé...      30.0   \n",
       "2    this is for a review from 2019, this place is ...      25.0   \n",
       "3    foods were delicious, great ambiance, and help...      24.0   \n",
       "4    michelin starred. reservations weeks in advanc...      23.0   \n",
       "..                                                 ...       ...   \n",
       "195  oh emm geee! make sure you schedule a moment t...      32.0   \n",
       "196  the chicken here is done extremely well! the c...      30.0   \n",
       "197  excellent food and what a great find in opera ...      24.0   \n",
       "198  this restaurant is basically across the street...      29.0   \n",
       "199  my wife and i ran into this place as we were s...      31.0   \n",
       "\n",
       "                                                 words  \n",
       "0    ['my', 'favorite', 'meal', 'in', 'paris', 'we'...  \n",
       "1    ['this', 'is', 'a', 'small', 'bar', 'restauran...  \n",
       "2    ['this', 'is', 'for', 'a', 'review', 'from', '...  \n",
       "3    ['foods', 'were', 'delicious', 'great', 'ambia...  \n",
       "4    ['michelin', 'starred', 'reservations', 'weeks...  \n",
       "..                                                 ...  \n",
       "195  ['oh', 'emm', 'geee', 'make', 'sure', 'you', '...  \n",
       "196  ['the', 'chicken', 'here', 'is', 'done', 'extr...  \n",
       "197  ['excellent', 'food', 'and', 'what', 'a', 'gre...  \n",
       "198  ['this', 'restaurant', 'is', 'basically', 'acr...  \n",
       "199  ['my', 'wife', 'and', 'i', 'ran', 'into', 'thi...  \n",
       "\n",
       "[200 rows x 4 columns]"
      ]
     },
     "execution_count": 492,
     "metadata": {},
     "output_type": "execute_result"
    }
   ],
   "source": [
    "reviews"
   ]
  },
  {
   "cell_type": "code",
   "execution_count": 493,
   "metadata": {},
   "outputs": [],
   "source": [
    "pat = r'\\b(?:{})\\b'.format('|'.join(new_sw_nltk))\n",
    "reviews['new_words'] = reviews['words'].str.replace(pat, '')\n",
    "\n"
   ]
  },
  {
   "cell_type": "code",
   "execution_count": 494,
   "metadata": {},
   "outputs": [
    {
     "data": {
      "text/html": [
       "<div>\n",
       "<style scoped>\n",
       "    .dataframe tbody tr th:only-of-type {\n",
       "        vertical-align: middle;\n",
       "    }\n",
       "\n",
       "    .dataframe tbody tr th {\n",
       "        vertical-align: top;\n",
       "    }\n",
       "\n",
       "    .dataframe thead th {\n",
       "        text-align: right;\n",
       "    }\n",
       "</style>\n",
       "<table border=\"1\" class=\"dataframe\">\n",
       "  <thead>\n",
       "    <tr style=\"text-align: right;\">\n",
       "      <th></th>\n",
       "      <th>rw_id</th>\n",
       "      <th>rw_text</th>\n",
       "      <th>nb_words</th>\n",
       "      <th>words</th>\n",
       "      <th>new_words</th>\n",
       "    </tr>\n",
       "  </thead>\n",
       "  <tbody>\n",
       "    <tr>\n",
       "      <th>0</th>\n",
       "      <td>aGP7nLwEQOUg64jKP8ebsw</td>\n",
       "      <td>my favorite meal in paris! \\n\\nwe started off ...</td>\n",
       "      <td>28.0</td>\n",
       "      <td>['my', 'favorite', 'meal', 'in', 'paris', 'we'...</td>\n",
       "      <td>['', 'favorite', 'meal', '', '', '', 'started'...</td>\n",
       "    </tr>\n",
       "    <tr>\n",
       "      <th>1</th>\n",
       "      <td>-to6adg_kucf1SgQckgJXw</td>\n",
       "      <td>this is a small bar/restaurant closed to cathé...</td>\n",
       "      <td>30.0</td>\n",
       "      <td>['this', 'is', 'a', 'small', 'bar', 'restauran...</td>\n",
       "      <td>['', 'is', '', 'small', 'bar', 'restaurant', '...</td>\n",
       "    </tr>\n",
       "    <tr>\n",
       "      <th>2</th>\n",
       "      <td>WMRKQUUR3BmjV_EZg7zVfw</td>\n",
       "      <td>this is for a review from 2019, this place is ...</td>\n",
       "      <td>25.0</td>\n",
       "      <td>['this', 'is', 'for', 'a', 'review', 'from', '...</td>\n",
       "      <td>['', 'is', '', '', 'review', '', '2019', '', '...</td>\n",
       "    </tr>\n",
       "    <tr>\n",
       "      <th>3</th>\n",
       "      <td>U8G3f8ITSlqBzETBDVO8bw</td>\n",
       "      <td>foods were delicious, great ambiance, and help...</td>\n",
       "      <td>24.0</td>\n",
       "      <td>['foods', 'were', 'delicious', 'great', 'ambia...</td>\n",
       "      <td>['foods', 'were', 'delicious', 'great', 'ambia...</td>\n",
       "    </tr>\n",
       "    <tr>\n",
       "      <th>4</th>\n",
       "      <td>giErkj8Al6-egq5XUu2FqA</td>\n",
       "      <td>michelin starred. reservations weeks in advanc...</td>\n",
       "      <td>23.0</td>\n",
       "      <td>['michelin', 'starred', 'reservations', 'weeks...</td>\n",
       "      <td>['michelin', 'starred', 'reservations', 'weeks...</td>\n",
       "    </tr>\n",
       "    <tr>\n",
       "      <th>...</th>\n",
       "      <td>...</td>\n",
       "      <td>...</td>\n",
       "      <td>...</td>\n",
       "      <td>...</td>\n",
       "      <td>...</td>\n",
       "    </tr>\n",
       "    <tr>\n",
       "      <th>195</th>\n",
       "      <td>qzZwnApIU_zTLaKxguUUuQ</td>\n",
       "      <td>oh emm geee! make sure you schedule a moment t...</td>\n",
       "      <td>32.0</td>\n",
       "      <td>['oh', 'emm', 'geee', 'make', 'sure', 'you', '...</td>\n",
       "      <td>['oh', 'emm', 'geee', 'make', 'sure', '', 'sch...</td>\n",
       "    </tr>\n",
       "    <tr>\n",
       "      <th>196</th>\n",
       "      <td>uJ6hdwRTutiWk0Mg4XduEQ</td>\n",
       "      <td>the chicken here is done extremely well! the c...</td>\n",
       "      <td>30.0</td>\n",
       "      <td>['the', 'chicken', 'here', 'is', 'done', 'extr...</td>\n",
       "      <td>['', 'chicken', '', 'is', 'done', 'extremely',...</td>\n",
       "    </tr>\n",
       "    <tr>\n",
       "      <th>197</th>\n",
       "      <td>hH_CO0dpAgIphCSbufJO8Q</td>\n",
       "      <td>excellent food and what a great find in opera ...</td>\n",
       "      <td>24.0</td>\n",
       "      <td>['excellent', 'food', 'and', 'what', 'a', 'gre...</td>\n",
       "      <td>['excellent', 'food', '', '', '', 'great', 'fi...</td>\n",
       "    </tr>\n",
       "    <tr>\n",
       "      <th>198</th>\n",
       "      <td>CT26f0OH_6pntDsvQ0ecpw</td>\n",
       "      <td>this restaurant is basically across the street...</td>\n",
       "      <td>29.0</td>\n",
       "      <td>['this', 'restaurant', 'is', 'basically', 'acr...</td>\n",
       "      <td>['', 'restaurant', 'is', 'basically', 'across'...</td>\n",
       "    </tr>\n",
       "    <tr>\n",
       "      <th>199</th>\n",
       "      <td>2QyKTXpKQCfAwq6_IjSy4A</td>\n",
       "      <td>my wife and i ran into this place as we were s...</td>\n",
       "      <td>31.0</td>\n",
       "      <td>['my', 'wife', 'and', 'i', 'ran', 'into', 'thi...</td>\n",
       "      <td>['', 'wife', '', '', 'ran', '', '', 'place', '...</td>\n",
       "    </tr>\n",
       "  </tbody>\n",
       "</table>\n",
       "<p>200 rows × 5 columns</p>\n",
       "</div>"
      ],
      "text/plain": [
       "                      rw_id  \\\n",
       "0    aGP7nLwEQOUg64jKP8ebsw   \n",
       "1    -to6adg_kucf1SgQckgJXw   \n",
       "2    WMRKQUUR3BmjV_EZg7zVfw   \n",
       "3    U8G3f8ITSlqBzETBDVO8bw   \n",
       "4    giErkj8Al6-egq5XUu2FqA   \n",
       "..                      ...   \n",
       "195  qzZwnApIU_zTLaKxguUUuQ   \n",
       "196  uJ6hdwRTutiWk0Mg4XduEQ   \n",
       "197  hH_CO0dpAgIphCSbufJO8Q   \n",
       "198  CT26f0OH_6pntDsvQ0ecpw   \n",
       "199  2QyKTXpKQCfAwq6_IjSy4A   \n",
       "\n",
       "                                               rw_text  nb_words  \\\n",
       "0    my favorite meal in paris! \\n\\nwe started off ...      28.0   \n",
       "1    this is a small bar/restaurant closed to cathé...      30.0   \n",
       "2    this is for a review from 2019, this place is ...      25.0   \n",
       "3    foods were delicious, great ambiance, and help...      24.0   \n",
       "4    michelin starred. reservations weeks in advanc...      23.0   \n",
       "..                                                 ...       ...   \n",
       "195  oh emm geee! make sure you schedule a moment t...      32.0   \n",
       "196  the chicken here is done extremely well! the c...      30.0   \n",
       "197  excellent food and what a great find in opera ...      24.0   \n",
       "198  this restaurant is basically across the street...      29.0   \n",
       "199  my wife and i ran into this place as we were s...      31.0   \n",
       "\n",
       "                                                 words  \\\n",
       "0    ['my', 'favorite', 'meal', 'in', 'paris', 'we'...   \n",
       "1    ['this', 'is', 'a', 'small', 'bar', 'restauran...   \n",
       "2    ['this', 'is', 'for', 'a', 'review', 'from', '...   \n",
       "3    ['foods', 'were', 'delicious', 'great', 'ambia...   \n",
       "4    ['michelin', 'starred', 'reservations', 'weeks...   \n",
       "..                                                 ...   \n",
       "195  ['oh', 'emm', 'geee', 'make', 'sure', 'you', '...   \n",
       "196  ['the', 'chicken', 'here', 'is', 'done', 'extr...   \n",
       "197  ['excellent', 'food', 'and', 'what', 'a', 'gre...   \n",
       "198  ['this', 'restaurant', 'is', 'basically', 'acr...   \n",
       "199  ['my', 'wife', 'and', 'i', 'ran', 'into', 'thi...   \n",
       "\n",
       "                                             new_words  \n",
       "0    ['', 'favorite', 'meal', '', '', '', 'started'...  \n",
       "1    ['', 'is', '', 'small', 'bar', 'restaurant', '...  \n",
       "2    ['', 'is', '', '', 'review', '', '2019', '', '...  \n",
       "3    ['foods', 'were', 'delicious', 'great', 'ambia...  \n",
       "4    ['michelin', 'starred', 'reservations', 'weeks...  \n",
       "..                                                 ...  \n",
       "195  ['oh', 'emm', 'geee', 'make', 'sure', '', 'sch...  \n",
       "196  ['', 'chicken', '', 'is', 'done', 'extremely',...  \n",
       "197  ['excellent', 'food', '', '', '', 'great', 'fi...  \n",
       "198  ['', 'restaurant', 'is', 'basically', 'across'...  \n",
       "199  ['', 'wife', '', '', 'ran', '', '', 'place', '...  \n",
       "\n",
       "[200 rows x 5 columns]"
      ]
     },
     "execution_count": 494,
     "metadata": {},
     "output_type": "execute_result"
    }
   ],
   "source": [
    "reviews"
   ]
  },
  {
   "cell_type": "markdown",
   "metadata": {},
   "source": [
    "Etudions à nouveau les mots les plus fréquents."
   ]
  },
  {
   "cell_type": "code",
   "execution_count": 468,
   "metadata": {},
   "outputs": [
    {
     "data": {
      "image/png": "[encoded data removed]",
      "text/plain": [
       "<Figure size 576x396 with 1 Axes>"
      ]
     },
     "metadata": {},
     "output_type": "display_data"
    }
   ],
   "source": [
    "nb_most_frequent_plt(reviews[\"new_words\"])"
   ]
  },
  {
   "cell_type": "markdown",
   "metadata": {},
   "source": [
    "Nous n'avons plus de mots dit vides. Il nous faut à présent conserver la racine des mots et regarder les trigrammes pour conserver le sens des mots."
   ]
  },
  {
   "cell_type": "code",
   "execution_count": 469,
   "metadata": {},
   "outputs": [
    {
     "data": {
      "text/html": [
       "<div>\n",
       "<style scoped>\n",
       "    .dataframe tbody tr th:only-of-type {\n",
       "        vertical-align: middle;\n",
       "    }\n",
       "\n",
       "    .dataframe tbody tr th {\n",
       "        vertical-align: top;\n",
       "    }\n",
       "\n",
       "    .dataframe thead th {\n",
       "        text-align: right;\n",
       "    }\n",
       "</style>\n",
       "<table border=\"1\" class=\"dataframe\">\n",
       "  <thead>\n",
       "    <tr style=\"text-align: right;\">\n",
       "      <th></th>\n",
       "      <th>rw_id</th>\n",
       "      <th>rw_text</th>\n",
       "      <th>nb_words</th>\n",
       "      <th>words</th>\n",
       "      <th>words_ok</th>\n",
       "      <th>new_words</th>\n",
       "    </tr>\n",
       "  </thead>\n",
       "  <tbody>\n",
       "    <tr>\n",
       "      <th>0</th>\n",
       "      <td>aGP7nLwEQOUg64jKP8ebsw</td>\n",
       "      <td>my favorite meal in paris! \\n\\nwe started off ...</td>\n",
       "      <td>28.0</td>\n",
       "      <td>['my', 'favorite', 'meal', 'in', 'paris', 'we'...</td>\n",
       "      <td>['favorit', 'meal', 'start', 'off', 'foie', 'g...</td>\n",
       "      <td>['', 'favorite', 'meal', '', '', '', 'started'...</td>\n",
       "    </tr>\n",
       "    <tr>\n",
       "      <th>1</th>\n",
       "      <td>-to6adg_kucf1SgQckgJXw</td>\n",
       "      <td>this is a small bar/restaurant closed to cathé...</td>\n",
       "      <td>30.0</td>\n",
       "      <td>['this', 'is', 'a', 'small', 'bar', 'restauran...</td>\n",
       "      <td>['is', 'small', 'bar', 'restaur', 'close', 'ca...</td>\n",
       "      <td>['', 'is', '', 'small', 'bar', 'restaurant', '...</td>\n",
       "    </tr>\n",
       "    <tr>\n",
       "      <th>2</th>\n",
       "      <td>WMRKQUUR3BmjV_EZg7zVfw</td>\n",
       "      <td>this is for a review from 2019, this place is ...</td>\n",
       "      <td>25.0</td>\n",
       "      <td>['this', 'is', 'for', 'a', 'review', 'from', '...</td>\n",
       "      <td>['is', 'review', '2019', 'place', 'is', 'perfe...</td>\n",
       "      <td>['', 'is', '', '', 'review', '', '2019', '', '...</td>\n",
       "    </tr>\n",
       "    <tr>\n",
       "      <th>3</th>\n",
       "      <td>U8G3f8ITSlqBzETBDVO8bw</td>\n",
       "      <td>foods were delicious, great ambiance, and help...</td>\n",
       "      <td>24.0</td>\n",
       "      <td>['foods', 'were', 'delicious', 'great', 'ambia...</td>\n",
       "      <td>['food', 'were', 'delici', 'great', 'ambianc',...</td>\n",
       "      <td>['foods', 'were', 'delicious', 'great', 'ambia...</td>\n",
       "    </tr>\n",
       "    <tr>\n",
       "      <th>4</th>\n",
       "      <td>giErkj8Al6-egq5XUu2FqA</td>\n",
       "      <td>michelin starred. reservations weeks in advanc...</td>\n",
       "      <td>23.0</td>\n",
       "      <td>['michelin', 'starred', 'reservations', 'weeks...</td>\n",
       "      <td>['michelin', 'star', 'reserv', 'week', 'advanc...</td>\n",
       "      <td>['michelin', 'starred', 'reservations', 'weeks...</td>\n",
       "    </tr>\n",
       "    <tr>\n",
       "      <th>...</th>\n",
       "      <td>...</td>\n",
       "      <td>...</td>\n",
       "      <td>...</td>\n",
       "      <td>...</td>\n",
       "      <td>...</td>\n",
       "      <td>...</td>\n",
       "    </tr>\n",
       "    <tr>\n",
       "      <th>195</th>\n",
       "      <td>qzZwnApIU_zTLaKxguUUuQ</td>\n",
       "      <td>oh emm geee! make sure you schedule a moment t...</td>\n",
       "      <td>32.0</td>\n",
       "      <td>['oh', 'emm', 'geee', 'make', 'sure', 'you', '...</td>\n",
       "      <td>['oh', 'emm', 'geee', 'make', 'sure', 'schedul...</td>\n",
       "      <td>['oh', 'emm', 'geee', 'make', 'sure', '', 'sch...</td>\n",
       "    </tr>\n",
       "    <tr>\n",
       "      <th>196</th>\n",
       "      <td>uJ6hdwRTutiWk0Mg4XduEQ</td>\n",
       "      <td>the chicken here is done extremely well! the c...</td>\n",
       "      <td>30.0</td>\n",
       "      <td>['the', 'chicken', 'here', 'is', 'done', 'extr...</td>\n",
       "      <td>['chicken', 'is', 'done', 'extrem', 'well', 'c...</td>\n",
       "      <td>['', 'chicken', '', 'is', 'done', 'extremely',...</td>\n",
       "    </tr>\n",
       "    <tr>\n",
       "      <th>197</th>\n",
       "      <td>hH_CO0dpAgIphCSbufJO8Q</td>\n",
       "      <td>excellent food and what a great find in opera ...</td>\n",
       "      <td>24.0</td>\n",
       "      <td>['excellent', 'food', 'and', 'what', 'a', 'gre...</td>\n",
       "      <td>['excel', 'food', 'great', 'find', 'opera', 'd...</td>\n",
       "      <td>['excellent', 'food', '', '', '', 'great', 'fi...</td>\n",
       "    </tr>\n",
       "    <tr>\n",
       "      <th>198</th>\n",
       "      <td>CT26f0OH_6pntDsvQ0ecpw</td>\n",
       "      <td>this restaurant is basically across the street...</td>\n",
       "      <td>29.0</td>\n",
       "      <td>['this', 'restaurant', 'is', 'basically', 'acr...</td>\n",
       "      <td>['restaur', 'is', 'basic', 'across', 'street',...</td>\n",
       "      <td>['', 'restaurant', 'is', 'basically', 'across'...</td>\n",
       "    </tr>\n",
       "    <tr>\n",
       "      <th>199</th>\n",
       "      <td>2QyKTXpKQCfAwq6_IjSy4A</td>\n",
       "      <td>my wife and i ran into this place as we were s...</td>\n",
       "      <td>31.0</td>\n",
       "      <td>['my', 'wife', 'and', 'i', 'ran', 'into', 'thi...</td>\n",
       "      <td>['wife', 'ran', 'place', 'were', 'stroll', 'st...</td>\n",
       "      <td>['', 'wife', '', '', 'ran', '', '', 'place', '...</td>\n",
       "    </tr>\n",
       "  </tbody>\n",
       "</table>\n",
       "<p>200 rows × 6 columns</p>\n",
       "</div>"
      ],
      "text/plain": [
       "                      rw_id  \\\n",
       "0    aGP7nLwEQOUg64jKP8ebsw   \n",
       "1    -to6adg_kucf1SgQckgJXw   \n",
       "2    WMRKQUUR3BmjV_EZg7zVfw   \n",
       "3    U8G3f8ITSlqBzETBDVO8bw   \n",
       "4    giErkj8Al6-egq5XUu2FqA   \n",
       "..                      ...   \n",
       "195  qzZwnApIU_zTLaKxguUUuQ   \n",
       "196  uJ6hdwRTutiWk0Mg4XduEQ   \n",
       "197  hH_CO0dpAgIphCSbufJO8Q   \n",
       "198  CT26f0OH_6pntDsvQ0ecpw   \n",
       "199  2QyKTXpKQCfAwq6_IjSy4A   \n",
       "\n",
       "                                               rw_text  nb_words  \\\n",
       "0    my favorite meal in paris! \\n\\nwe started off ...      28.0   \n",
       "1    this is a small bar/restaurant closed to cathé...      30.0   \n",
       "2    this is for a review from 2019, this place is ...      25.0   \n",
       "3    foods were delicious, great ambiance, and help...      24.0   \n",
       "4    michelin starred. reservations weeks in advanc...      23.0   \n",
       "..                                                 ...       ...   \n",
       "195  oh emm geee! make sure you schedule a moment t...      32.0   \n",
       "196  the chicken here is done extremely well! the c...      30.0   \n",
       "197  excellent food and what a great find in opera ...      24.0   \n",
       "198  this restaurant is basically across the street...      29.0   \n",
       "199  my wife and i ran into this place as we were s...      31.0   \n",
       "\n",
       "                                                 words  \\\n",
       "0    ['my', 'favorite', 'meal', 'in', 'paris', 'we'...   \n",
       "1    ['this', 'is', 'a', 'small', 'bar', 'restauran...   \n",
       "2    ['this', 'is', 'for', 'a', 'review', 'from', '...   \n",
       "3    ['foods', 'were', 'delicious', 'great', 'ambia...   \n",
       "4    ['michelin', 'starred', 'reservations', 'weeks...   \n",
       "..                                                 ...   \n",
       "195  ['oh', 'emm', 'geee', 'make', 'sure', 'you', '...   \n",
       "196  ['the', 'chicken', 'here', 'is', 'done', 'extr...   \n",
       "197  ['excellent', 'food', 'and', 'what', 'a', 'gre...   \n",
       "198  ['this', 'restaurant', 'is', 'basically', 'acr...   \n",
       "199  ['my', 'wife', 'and', 'i', 'ran', 'into', 'thi...   \n",
       "\n",
       "                                              words_ok  \\\n",
       "0    ['favorit', 'meal', 'start', 'off', 'foie', 'g...   \n",
       "1    ['is', 'small', 'bar', 'restaur', 'close', 'ca...   \n",
       "2    ['is', 'review', '2019', 'place', 'is', 'perfe...   \n",
       "3    ['food', 'were', 'delici', 'great', 'ambianc',...   \n",
       "4    ['michelin', 'star', 'reserv', 'week', 'advanc...   \n",
       "..                                                 ...   \n",
       "195  ['oh', 'emm', 'geee', 'make', 'sure', 'schedul...   \n",
       "196  ['chicken', 'is', 'done', 'extrem', 'well', 'c...   \n",
       "197  ['excel', 'food', 'great', 'find', 'opera', 'd...   \n",
       "198  ['restaur', 'is', 'basic', 'across', 'street',...   \n",
       "199  ['wife', 'ran', 'place', 'were', 'stroll', 'st...   \n",
       "\n",
       "                                             new_words  \n",
       "0    ['', 'favorite', 'meal', '', '', '', 'started'...  \n",
       "1    ['', 'is', '', 'small', 'bar', 'restaurant', '...  \n",
       "2    ['', 'is', '', '', 'review', '', '2019', '', '...  \n",
       "3    ['foods', 'were', 'delicious', 'great', 'ambia...  \n",
       "4    ['michelin', 'starred', 'reservations', 'weeks...  \n",
       "..                                                 ...  \n",
       "195  ['oh', 'emm', 'geee', 'make', 'sure', '', 'sch...  \n",
       "196  ['', 'chicken', '', 'is', 'done', 'extremely',...  \n",
       "197  ['excellent', 'food', '', '', '', 'great', 'fi...  \n",
       "198  ['', 'restaurant', 'is', 'basically', 'across'...  \n",
       "199  ['', 'wife', '', '', 'ran', '', '', 'place', '...  \n",
       "\n",
       "[200 rows x 6 columns]"
      ]
     },
     "execution_count": 469,
     "metadata": {},
     "output_type": "execute_result"
    }
   ],
   "source": [
    "reviews"
   ]
  },
  {
   "cell_type": "code",
   "execution_count": 515,
   "metadata": {},
   "outputs": [],
   "source": [
    "from nltk.stem.snowball import SnowballStemmer\n",
    "stemmer = SnowballStemmer(language='english')\n",
    "\n",
    "reviews['stemmed'] = reviews['new_words'].apply(lambda x: [stemmer.stem(y).replace(\"['\",\"''\")  for y in list(x.split(\", \"))])"
   ]
  },
  {
   "cell_type": "code",
   "execution_count": 471,
   "metadata": {},
   "outputs": [
    {
     "data": {
      "image/png": "[encoded data removed]",
      "text/plain": [
       "<Figure size 576x396 with 1 Axes>"
      ]
     },
     "metadata": {},
     "output_type": "display_data"
    }
   ],
   "source": [
    "nb_most_frequent_plt(reviews[\"stemmed\"])"
   ]
  },
  {
   "cell_type": "markdown",
   "metadata": {},
   "source": [
    "Maintenant que nous avons que les racines des mots, réalisons les trigrammes"
   ]
  },
  {
   "cell_type": "code",
   "execution_count": 512,
   "metadata": {},
   "outputs": [],
   "source": [
    "reviews[\"stemmed\"] = reviews[\"stemmed\"].apply(lambda x: \"\".join(str(x).split(\", \"))  )"
   ]
  },
  {
   "cell_type": "code",
   "execution_count": 516,
   "metadata": {},
   "outputs": [
    {
     "data": {
      "text/plain": [
       "0      ['', favorit, meal, '', '', '', start, off, ''...\n",
       "1      ['', is, '', small, bar, restaur, close, '', c...\n",
       "2      ['', is, '', '', review, '', 2019, '', place, ...\n",
       "3      [''food, were, delici, great, ambianc, '', hel...\n",
       "4      [''michelin, star, reserv, week, '', advanc, i...\n",
       "                             ...                        \n",
       "195    [''oh, emm, geee, make, sure, '', schedul, '',...\n",
       "196    ['', chicken, '', is, done, extrem, well, '', ...\n",
       "197    [''excel, food, '', '', '', great, find, '', o...\n",
       "198    ['', restaur, is, basic, across, '', street, '...\n",
       "199    ['', wife, '', '', ran, '', '', place, '', '',...\n",
       "Name: stemmed, Length: 200, dtype: object"
      ]
     },
     "execution_count": 516,
     "metadata": {},
     "output_type": "execute_result"
    }
   ],
   "source": [
    "reviews[\"stemmed\"] "
   ]
  },
  {
   "cell_type": "code",
   "execution_count": 517,
   "metadata": {},
   "outputs": [
    {
     "data": {
      "text/html": [
       "<div>\n",
       "<style scoped>\n",
       "    .dataframe tbody tr th:only-of-type {\n",
       "        vertical-align: middle;\n",
       "    }\n",
       "\n",
       "    .dataframe tbody tr th {\n",
       "        vertical-align: top;\n",
       "    }\n",
       "\n",
       "    .dataframe thead th {\n",
       "        text-align: right;\n",
       "    }\n",
       "</style>\n",
       "<table border=\"1\" class=\"dataframe\">\n",
       "  <thead>\n",
       "    <tr style=\"text-align: right;\">\n",
       "      <th></th>\n",
       "      <th>rw_id</th>\n",
       "      <th>rw_text</th>\n",
       "      <th>nb_words</th>\n",
       "      <th>words</th>\n",
       "      <th>new_words</th>\n",
       "      <th>stemmed</th>\n",
       "      <th>words_ok</th>\n",
       "    </tr>\n",
       "  </thead>\n",
       "  <tbody>\n",
       "    <tr>\n",
       "      <th>0</th>\n",
       "      <td>aGP7nLwEQOUg64jKP8ebsw</td>\n",
       "      <td>my favorite meal in paris! \\n\\nwe started off ...</td>\n",
       "      <td>28.0</td>\n",
       "      <td>['my', 'favorite', 'meal', 'in', 'paris', 'we'...</td>\n",
       "      <td>['', 'favorite', 'meal', '', '', '', 'started'...</td>\n",
       "      <td>['', favorit, meal, '', '', '', start, off, ''...</td>\n",
       "      <td>favorit meal start off 1 is small bar restaur ...</td>\n",
       "    </tr>\n",
       "    <tr>\n",
       "      <th>1</th>\n",
       "      <td>-to6adg_kucf1SgQckgJXw</td>\n",
       "      <td>this is a small bar/restaurant closed to cathé...</td>\n",
       "      <td>30.0</td>\n",
       "      <td>['this', 'is', 'a', 'small', 'bar', 'restauran...</td>\n",
       "      <td>['', 'is', '', 'small', 'bar', 'restaurant', '...</td>\n",
       "      <td>['', is, '', small, bar, restaur, close, '', c...</td>\n",
       "      <td>favorit meal start off 1 is small bar restaur ...</td>\n",
       "    </tr>\n",
       "  </tbody>\n",
       "</table>\n",
       "</div>"
      ],
      "text/plain": [
       "                    rw_id                                            rw_text  \\\n",
       "0  aGP7nLwEQOUg64jKP8ebsw  my favorite meal in paris! \\n\\nwe started off ...   \n",
       "1  -to6adg_kucf1SgQckgJXw  this is a small bar/restaurant closed to cathé...   \n",
       "\n",
       "   nb_words                                              words  \\\n",
       "0      28.0  ['my', 'favorite', 'meal', 'in', 'paris', 'we'...   \n",
       "1      30.0  ['this', 'is', 'a', 'small', 'bar', 'restauran...   \n",
       "\n",
       "                                           new_words  \\\n",
       "0  ['', 'favorite', 'meal', '', '', '', 'started'...   \n",
       "1  ['', 'is', '', 'small', 'bar', 'restaurant', '...   \n",
       "\n",
       "                                             stemmed  \\\n",
       "0  ['', favorit, meal, '', '', '', start, off, ''...   \n",
       "1  ['', is, '', small, bar, restaur, close, '', c...   \n",
       "\n",
       "                                            words_ok  \n",
       "0  favorit meal start off 1 is small bar restaur ...  \n",
       "1  favorit meal start off 1 is small bar restaur ...  "
      ]
     },
     "execution_count": 517,
     "metadata": {},
     "output_type": "execute_result"
    }
   ],
   "source": [
    "reviews.head(2)"
   ]
  },
  {
   "cell_type": "code",
   "execution_count": 519,
   "metadata": {},
   "outputs": [],
   "source": [
    "for index, element in reviews.iterrows():\n",
    "    tokenizer = nltk.RegexpTokenizer(r'\\w+')\n",
    "    tokens = tokenizer.tokenize(str(element[\"stemmed\"]))\n",
    "    reviews.loc[index, \"words_ok\"] = \" \".join(tokens)\n",
    "    # reviews.drop([\"new_words\", \"stemmed\"], axis=1)"
   ]
  },
  {
   "cell_type": "code",
   "execution_count": 521,
   "metadata": {},
   "outputs": [
    {
     "data": {
      "text/html": [
       "<div>\n",
       "<style scoped>\n",
       "    .dataframe tbody tr th:only-of-type {\n",
       "        vertical-align: middle;\n",
       "    }\n",
       "\n",
       "    .dataframe tbody tr th {\n",
       "        vertical-align: top;\n",
       "    }\n",
       "\n",
       "    .dataframe thead th {\n",
       "        text-align: right;\n",
       "    }\n",
       "</style>\n",
       "<table border=\"1\" class=\"dataframe\">\n",
       "  <thead>\n",
       "    <tr style=\"text-align: right;\">\n",
       "      <th></th>\n",
       "      <th>rw_id</th>\n",
       "      <th>rw_text</th>\n",
       "      <th>nb_words</th>\n",
       "      <th>words</th>\n",
       "      <th>new_words</th>\n",
       "      <th>stemmed</th>\n",
       "      <th>words_ok</th>\n",
       "    </tr>\n",
       "  </thead>\n",
       "  <tbody>\n",
       "    <tr>\n",
       "      <th>0</th>\n",
       "      <td>aGP7nLwEQOUg64jKP8ebsw</td>\n",
       "      <td>my favorite meal in paris! \\n\\nwe started off ...</td>\n",
       "      <td>28.0</td>\n",
       "      <td>['my', 'favorite', 'meal', 'in', 'paris', 'we'...</td>\n",
       "      <td>['', 'favorite', 'meal', '', '', '', 'started'...</td>\n",
       "      <td>['', favorit, meal, '', '', '', start, off, ''...</td>\n",
       "      <td>favorit meal start off foie gras carpaccio esc...</td>\n",
       "    </tr>\n",
       "    <tr>\n",
       "      <th>1</th>\n",
       "      <td>-to6adg_kucf1SgQckgJXw</td>\n",
       "      <td>this is a small bar/restaurant closed to cathé...</td>\n",
       "      <td>30.0</td>\n",
       "      <td>['this', 'is', 'a', 'small', 'bar', 'restauran...</td>\n",
       "      <td>['', 'is', '', 'small', 'bar', 'restaurant', '...</td>\n",
       "      <td>['', is, '', small, bar, restaur, close, '', c...</td>\n",
       "      <td>is small bar restaur close cathédral notr dame...</td>\n",
       "    </tr>\n",
       "    <tr>\n",
       "      <th>2</th>\n",
       "      <td>WMRKQUUR3BmjV_EZg7zVfw</td>\n",
       "      <td>this is for a review from 2019, this place is ...</td>\n",
       "      <td>25.0</td>\n",
       "      <td>['this', 'is', 'for', 'a', 'review', 'from', '...</td>\n",
       "      <td>['', 'is', '', '', 'review', '', '2019', '', '...</td>\n",
       "      <td>['', is, '', '', review, '', 2019, '', place, ...</td>\n",
       "      <td>is review 2019 place is perfect would recommen...</td>\n",
       "    </tr>\n",
       "    <tr>\n",
       "      <th>3</th>\n",
       "      <td>U8G3f8ITSlqBzETBDVO8bw</td>\n",
       "      <td>foods were delicious, great ambiance, and help...</td>\n",
       "      <td>24.0</td>\n",
       "      <td>['foods', 'were', 'delicious', 'great', 'ambia...</td>\n",
       "      <td>['foods', 'were', 'delicious', 'great', 'ambia...</td>\n",
       "      <td>[''food, were, delici, great, ambianc, '', hel...</td>\n",
       "      <td>food were delici great ambianc help staff riso...</td>\n",
       "    </tr>\n",
       "    <tr>\n",
       "      <th>4</th>\n",
       "      <td>giErkj8Al6-egq5XUu2FqA</td>\n",
       "      <td>michelin starred. reservations weeks in advanc...</td>\n",
       "      <td>23.0</td>\n",
       "      <td>['michelin', 'starred', 'reservations', 'weeks...</td>\n",
       "      <td>['michelin', 'starred', 'reservations', 'weeks...</td>\n",
       "      <td>[''michelin, star, reserv, week, '', advanc, i...</td>\n",
       "      <td>michelin star reserv week advanc is absolut ne...</td>\n",
       "    </tr>\n",
       "  </tbody>\n",
       "</table>\n",
       "</div>"
      ],
      "text/plain": [
       "                    rw_id                                            rw_text  \\\n",
       "0  aGP7nLwEQOUg64jKP8ebsw  my favorite meal in paris! \\n\\nwe started off ...   \n",
       "1  -to6adg_kucf1SgQckgJXw  this is a small bar/restaurant closed to cathé...   \n",
       "2  WMRKQUUR3BmjV_EZg7zVfw  this is for a review from 2019, this place is ...   \n",
       "3  U8G3f8ITSlqBzETBDVO8bw  foods were delicious, great ambiance, and help...   \n",
       "4  giErkj8Al6-egq5XUu2FqA  michelin starred. reservations weeks in advanc...   \n",
       "\n",
       "   nb_words                                              words  \\\n",
       "0      28.0  ['my', 'favorite', 'meal', 'in', 'paris', 'we'...   \n",
       "1      30.0  ['this', 'is', 'a', 'small', 'bar', 'restauran...   \n",
       "2      25.0  ['this', 'is', 'for', 'a', 'review', 'from', '...   \n",
       "3      24.0  ['foods', 'were', 'delicious', 'great', 'ambia...   \n",
       "4      23.0  ['michelin', 'starred', 'reservations', 'weeks...   \n",
       "\n",
       "                                           new_words  \\\n",
       "0  ['', 'favorite', 'meal', '', '', '', 'started'...   \n",
       "1  ['', 'is', '', 'small', 'bar', 'restaurant', '...   \n",
       "2  ['', 'is', '', '', 'review', '', '2019', '', '...   \n",
       "3  ['foods', 'were', 'delicious', 'great', 'ambia...   \n",
       "4  ['michelin', 'starred', 'reservations', 'weeks...   \n",
       "\n",
       "                                             stemmed  \\\n",
       "0  ['', favorit, meal, '', '', '', start, off, ''...   \n",
       "1  ['', is, '', small, bar, restaur, close, '', c...   \n",
       "2  ['', is, '', '', review, '', 2019, '', place, ...   \n",
       "3  [''food, were, delici, great, ambianc, '', hel...   \n",
       "4  [''michelin, star, reserv, week, '', advanc, i...   \n",
       "\n",
       "                                            words_ok  \n",
       "0  favorit meal start off foie gras carpaccio esc...  \n",
       "1  is small bar restaur close cathédral notr dame...  \n",
       "2  is review 2019 place is perfect would recommen...  \n",
       "3  food were delici great ambianc help staff riso...  \n",
       "4  michelin star reserv week advanc is absolut ne...  "
      ]
     },
     "execution_count": 521,
     "metadata": {},
     "output_type": "execute_result"
    }
   ],
   "source": [
    "reviews.head(5)"
   ]
  },
  {
   "cell_type": "code",
   "execution_count": 522,
   "metadata": {},
   "outputs": [
    {
     "data": {
      "text/plain": [
       "[[('favorit', 'meal', 'start'), ('meal', 'start', 'off'), ('start', 'off', 'foie'), ('off', 'foie', 'gras'), ('foie', 'gras', 'carpaccio'), ('gras', 'carpaccio', 'escargot'), ('carpaccio', 'escargot', 'love'), ('escargot', 'love', 'uniqu'), ('love', 'uniqu', 'way'), ('uniqu', 'way', 'foie'), ('way', 'foie', 'gras'), ('foie', 'gras', 'was'), ('gras', 'was', 'prepar'), ('was', 'prepar', 'thinly')]]"
      ]
     },
     "execution_count": 522,
     "metadata": {},
     "output_type": "execute_result"
    }
   ],
   "source": [
    "trigrams_all= []\n",
    "for element in reviews[\"words_ok\"]:\n",
    "    token = nltk.word_tokenize(element)\n",
    "    trigrams = ngrams(token,3)\n",
    "    trigrams_all.append(list(trigrams))\n",
    "    break\n",
    "trigrams_all"
   ]
  },
  {
   "cell_type": "code",
   "execution_count": null,
   "metadata": {},
   "outputs": [],
   "source": []
  }
 ],
 "metadata": {
  "interpreter": {
   "hash": "1bf38de015df36f6358542d5963b6c82901027718e2d69b31a772080f167955d"
  },
  "kernelspec": {
   "display_name": "Python 3.9.7 ('venv_006')",
   "language": "python",
   "name": "python3"
  },
  "language_info": {
   "codemirror_mode": {
    "name": "ipython",
    "version": 3
   },
   "file_extension": ".py",
   "mimetype": "text/x-python",
   "name": "python",
   "nbconvert_exporter": "python",
   "pygments_lexer": "ipython3",
   "version": "3.9.10"
  },
  "orig_nbformat": 4
 },
 "nbformat": 4,
 "nbformat_minor": 2
}
